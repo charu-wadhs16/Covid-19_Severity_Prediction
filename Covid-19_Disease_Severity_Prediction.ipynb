{
 "cells": [
  {
   "cell_type": "markdown",
   "metadata": {
    "tags": []
   },
   "source": [
    "\n",
    "# Machine learning based model to predict disease severity in Covid-19 patients\n",
    "# Import all important libraries\n"
   ]
  },
  {
   "cell_type": "code",
   "execution_count": 133,
   "metadata": {},
   "outputs": [],
   "source": [
    "import cv2\n",
    "import os\n",
    "import matplotlib.pyplot as plt\n",
    "import numpy as np\n",
    "import pandas as pd\n",
    "import gdcm\n",
    "import pydicom as dicom\n",
    "from PIL import Image\n",
    "import matplotlib.pyplot as plt"
   ]
  },
  {
   "cell_type": "markdown",
   "metadata": {},
   "source": [
    "# Read Image Paths from Directory"
   ]
  },
  {
   "cell_type": "code",
   "execution_count": 134,
   "metadata": {},
   "outputs": [
    {
     "name": "stdout",
     "output_type": "stream",
     "text": [
      "404\n",
      "404\n"
     ]
    }
   ],
   "source": [
    "imagePaths=[]\n",
    "labels = []\n",
    "for root, dirnames, filenames in os.walk(r'C:\\Users\\hp\\Covidproject\\Data'):\n",
    "    for filename in filenames:\n",
    "        if (filename[-3:] == 'dcm'):\n",
    "            imagePaths.append(os.path.join(root, filename))\n",
    "            labels.append(root[30:31])            \n",
    "print(len(labels))\n",
    "print(len(imagePaths))"
   ]
  },
  {
   "cell_type": "code",
   "execution_count": null,
   "metadata": {},
   "outputs": [],
   "source": []
  },
  {
   "cell_type": "code",
   "execution_count": 132,
   "metadata": {},
   "outputs": [
    {
     "data": {
      "text/plain": [
       "'0'"
      ]
     },
     "execution_count": 132,
     "metadata": {},
     "output_type": "execute_result"
    }
   ],
   "source": [
    "labels[1]"
   ]
  },
  {
   "cell_type": "markdown",
   "metadata": {},
   "source": [
    "# Make Folder number as label for each image"
   ]
  },
  {
   "cell_type": "code",
   "execution_count": 136,
   "metadata": {},
   "outputs": [],
   "source": [
    "label=[]\n",
    "for i in labels:\n",
    "    label.append(int(i))  "
   ]
  },
  {
   "cell_type": "code",
   "execution_count": 126,
   "metadata": {},
   "outputs": [
    {
     "data": {
      "text/plain": [
       "404"
      ]
     },
     "execution_count": 126,
     "metadata": {},
     "output_type": "execute_result"
    }
   ],
   "source": [
    "len(label)"
   ]
  },
  {
   "cell_type": "markdown",
   "metadata": {},
   "source": [
    "# VGG"
   ]
  },
  {
   "cell_type": "markdown",
   "metadata": {},
   "source": [
    "# resizing images"
   ]
  },
  {
   "cell_type": "code",
   "execution_count": 138,
   "metadata": {
    "scrolled": true
   },
   "outputs": [],
   "source": [
    "resized_image_VGG=[]\n",
    "for i in imagePaths:\n",
    "    image1_VGG=dicom.read_file(i)\n",
    "    im_VGG=image1_VGG.pixel_array\n",
    "    im2_VGG=cv2.resize(im_VGG,(224,224))\n",
    "    resized_image_VGG.append(im2_VGG)"
   ]
  },
  {
   "cell_type": "code",
   "execution_count": 139,
   "metadata": {},
   "outputs": [
    {
     "data": {
      "text/plain": [
       "404"
      ]
     },
     "execution_count": 139,
     "metadata": {},
     "output_type": "execute_result"
    }
   ],
   "source": [
    "len(resized_image_VGG)"
   ]
  },
  {
   "cell_type": "code",
   "execution_count": null,
   "metadata": {},
   "outputs": [],
   "source": []
  },
  {
   "cell_type": "code",
   "execution_count": 140,
   "metadata": {},
   "outputs": [],
   "source": [
    "lst1_VGG=[]\n",
    "for i in resized_image_VGG[0:]:\n",
    "    resized_images_VGG=np.array([i,i,i])\n",
    "    resized_images_VGG=np.moveaxis(resized_images_VGG,0,-1)\n",
    "    lst1_VGG.append(resized_images_VGG)"
   ]
  },
  {
   "cell_type": "code",
   "execution_count": null,
   "metadata": {},
   "outputs": [],
   "source": []
  },
  {
   "cell_type": "code",
   "execution_count": 142,
   "metadata": {},
   "outputs": [
    {
     "data": {
      "text/plain": [
       "(404, 224, 224, 3)"
      ]
     },
     "execution_count": 142,
     "metadata": {},
     "output_type": "execute_result"
    }
   ],
   "source": [
    "images_VGG=np.array(lst1_VGG)\n",
    "images_VGG=np.array(lst1_VGG)\n",
    "images_VGG.shape"
   ]
  },
  {
   "cell_type": "markdown",
   "metadata": {},
   "source": [
    "# Updating the previous label with its orignal class "
   ]
  },
  {
   "cell_type": "code",
   "execution_count": 10,
   "metadata": {},
   "outputs": [],
   "source": [
    "Mild=[0]\n",
    "Server=[1]\n",
    "\n",
    "updated_label=[]\n",
    "\n",
    "for i in label:\n",
    "    if i in Mild:\n",
    "        updated_label.append(0)\n",
    "    elif i in Server:\n",
    "        updated_label.append(1)     "
   ]
  },
  {
   "cell_type": "markdown",
   "metadata": {},
   "source": [
    "# Convert the updated labels into array"
   ]
  },
  {
   "cell_type": "code",
   "execution_count": 11,
   "metadata": {},
   "outputs": [],
   "source": [
    "updated_label=np.array(updated_label)\n",
    "updated_label=updated_label.reshape(len(updated_label),1)"
   ]
  },
  {
   "cell_type": "code",
   "execution_count": 12,
   "metadata": {},
   "outputs": [
    {
     "data": {
      "text/plain": [
       "(404, 224, 224, 3)"
      ]
     },
     "execution_count": 12,
     "metadata": {},
     "output_type": "execute_result"
    }
   ],
   "source": [
    "images_VGG.shape"
   ]
  },
  {
   "cell_type": "code",
   "execution_count": 13,
   "metadata": {},
   "outputs": [
    {
     "data": {
      "text/plain": [
       "(404, 1)"
      ]
     },
     "execution_count": 13,
     "metadata": {},
     "output_type": "execute_result"
    }
   ],
   "source": [
    "len(updated_label)\n",
    "updated_label.shape"
   ]
  },
  {
   "cell_type": "markdown",
   "metadata": {},
   "source": [
    "# Splitting the dataset into training and testing"
   ]
  },
  {
   "cell_type": "code",
   "execution_count": 23,
   "metadata": {},
   "outputs": [],
   "source": [
    "from sklearn.model_selection import train_test_split\n",
    "x_train_VGG, x_test_VGG, y_train_VGG, y_test_VGG = train_test_split(images_VGG, updated_label,test_size=0.15,shuffle=True,stratify=updated_label)"
   ]
  },
  {
   "cell_type": "code",
   "execution_count": 24,
   "metadata": {},
   "outputs": [
    {
     "data": {
      "text/plain": [
       "(array([171.,   0.,   0.,   0.,   0.,   0.,   0.,   0.,   0., 172.]),\n",
       " array([0. , 0.1, 0.2, 0.3, 0.4, 0.5, 0.6, 0.7, 0.8, 0.9, 1. ]),\n",
       " <BarContainer object of 10 artists>)"
      ]
     },
     "execution_count": 24,
     "metadata": {},
     "output_type": "execute_result"
    },
    {
     "data": {
      "image/png": "[encoded data removed]",
      "text/plain": [
       "<Figure size 432x288 with 1 Axes>"
      ]
     },
     "metadata": {
      "needs_background": "light"
     },
     "output_type": "display_data"
    }
   ],
   "source": [
    "plt.hist(y_train_VGG)"
   ]
  },
  {
   "cell_type": "code",
   "execution_count": 25,
   "metadata": {},
   "outputs": [
    {
     "data": {
      "text/plain": [
       "(array([31.,  0.,  0.,  0.,  0.,  0.,  0.,  0.,  0., 30.]),\n",
       " array([0. , 0.1, 0.2, 0.3, 0.4, 0.5, 0.6, 0.7, 0.8, 0.9, 1. ]),\n",
       " <BarContainer object of 10 artists>)"
      ]
     },
     "execution_count": 25,
     "metadata": {},
     "output_type": "execute_result"
    },
    {
     "data": {
      "image/png": "[encoded data removed]",
      "text/plain": [
       "<Figure size 432x288 with 1 Axes>"
      ]
     },
     "metadata": {
      "needs_background": "light"
     },
     "output_type": "display_data"
    }
   ],
   "source": [
    "plt.hist(y_test_VGG)"
   ]
  },
  {
   "cell_type": "markdown",
   "metadata": {},
   "source": [
    "#  Keras implementation of the VGG architecture."
   ]
  },
  {
   "cell_type": "code",
   "execution_count": 26,
   "metadata": {},
   "outputs": [],
   "source": [
    "import tensorflow as tf\n",
    "from tensorflow import keras\n",
    "import tensorflow.keras\n",
    "\n",
    "from tensorflow.keras.initializers import glorot_uniform\n",
    "from tensorflow.keras import layers\n",
    "from tensorflow.keras.models import Model, load_model\n",
    "from tensorflow.keras.preprocessing import image\n",
    "\n",
    "import tensorflow.keras\n",
    "from tensorflow.keras.models import Sequential\n",
    "from tensorflow.keras.layers import Dense, Activation, Dropout, Conv2D,Flatten, MaxPooling2D\n",
    "from tensorflow.keras.layers import Input, Add, Dense, Activation, ZeroPadding2D, BatchNormalization,Flatten, Conv2D, AveragePooling2D, MaxPooling2D, GlobalMaxPooling2D,MaxPool2D\n",
    "\n",
    "from tensorflow.keras.initializers import glorot_uniform\n",
    "from tensorflow.keras import layers\n",
    "from tensorflow.keras.models import Model, load_model\n",
    "from tensorflow.keras.preprocessing import image\n"
   ]
  },
  {
   "cell_type": "markdown",
   "metadata": {},
   "source": [
    "# VGG Model"
   ]
  },
  {
   "cell_type": "code",
   "execution_count": 27,
   "metadata": {},
   "outputs": [],
   "source": [
    "img_input = keras.Input(shape=(224, 224, 3))\n",
    "channel_axis=3\n",
    "conv1  = Conv2D(filters=64, kernel_size=(3,3), padding=\"same\", activation=\"relu\")(img_input)\n",
    "conv2  = Conv2D(filters=64, kernel_size=(3,3), padding=\"same\", activation=\"relu\")(conv1)\n",
    "pool1  = MaxPooling2D((2, 2))(conv2)\n",
    "\n",
    "conv3  = Conv2D(filters=128, kernel_size=(3,3), padding=\"same\", activation=\"relu\")(pool1)\n",
    "conv4  = Conv2D(filters=128, kernel_size=(3,3), padding=\"same\", activation=\"relu\")(conv3)\n",
    "pool2  = MaxPooling2D((2, 2))(conv4)\n",
    "\n",
    "conv5  = Conv2D(filters=256, kernel_size=(3,3), padding=\"same\", activation=\"relu\")(pool2)\n",
    "conv6  = Conv2D(filters=256, kernel_size=(3,3), padding=\"same\", activation=\"relu\")(conv5)\n",
    "conv7  = Conv2D(filters=256, kernel_size=(3,3), padding=\"same\", activation=\"relu\")(conv6)\n",
    "pool3  = MaxPooling2D((2, 2))(conv7)\n",
    "\n",
    "conv8  = Conv2D(filters=512, kernel_size=(3,3), padding=\"same\", activation=\"relu\")(pool3)\n",
    "conv9  = Conv2D(filters=512, kernel_size=(3,3), padding=\"same\", activation=\"relu\")(conv8)\n",
    "conv10 = Conv2D(filters=512, kernel_size=(3,3), padding=\"same\", activation=\"relu\")(conv9)\n",
    "pool4  = MaxPooling2D((2, 2))(conv10)\n",
    "\n",
    "conv11 = Conv2D(filters=512, kernel_size=(3,3), padding=\"same\", activation=\"relu\")(pool4)\n",
    "conv12 = Conv2D(filters=512, kernel_size=(3,3), padding=\"same\", activation=\"relu\")(conv11)\n",
    "conv13 = Conv2D(filters=512, kernel_size=(3,3), padding=\"same\", activation=\"relu\")(conv12)\n",
    "pool5  = MaxPooling2D((2, 2))(conv13)\n",
    "\n",
    "flat   = Flatten()(pool5)\n",
    "dense1 = Dense(4096, activation=\"relu\")(flat)\n",
    "drop1  = Dropout(0.5)(dense1)\n",
    "dense2 = Dense(4096, activation=\"relu\")(drop1)\n",
    "drop2  = Dropout(0.5)(dense2)\n",
    "output = Dense(2, activation=\"softmax\")(drop2)\n",
    "\n",
    "vgg16_model = Model(inputs=img_input, outputs=output)"
   ]
  },
  {
   "cell_type": "code",
   "execution_count": 28,
   "metadata": {},
   "outputs": [
    {
     "name": "stdout",
     "output_type": "stream",
     "text": [
      "Model: \"model\"\n",
      "_________________________________________________________________\n",
      " Layer (type)                Output Shape              Param #   \n",
      "=================================================================\n",
      " input_1 (InputLayer)        [(None, 224, 224, 3)]     0         \n",
      "                                                                 \n",
      " conv2d (Conv2D)             (None, 224, 224, 64)      1792      \n",
      "                                                                 \n",
      " conv2d_1 (Conv2D)           (None, 224, 224, 64)      36928     \n",
      "                                                                 \n",
      " max_pooling2d (MaxPooling2D  (None, 112, 112, 64)     0         \n",
      " )                                                               \n",
      "                                                                 \n",
      " conv2d_2 (Conv2D)           (None, 112, 112, 128)     73856     \n",
      "                                                                 \n",
      " conv2d_3 (Conv2D)           (None, 112, 112, 128)     147584    \n",
      "                                                                 \n",
      " max_pooling2d_1 (MaxPooling  (None, 56, 56, 128)      0         \n",
      " 2D)                                                             \n",
      "                                                                 \n",
      " conv2d_4 (Conv2D)           (None, 56, 56, 256)       295168    \n",
      "                                                                 \n",
      " conv2d_5 (Conv2D)           (None, 56, 56, 256)       590080    \n",
      "                                                                 \n",
      " conv2d_6 (Conv2D)           (None, 56, 56, 256)       590080    \n",
      "                                                                 \n",
      " max_pooling2d_2 (MaxPooling  (None, 28, 28, 256)      0         \n",
      " 2D)                                                             \n",
      "                                                                 \n",
      " conv2d_7 (Conv2D)           (None, 28, 28, 512)       1180160   \n",
      "                                                                 \n",
      " conv2d_8 (Conv2D)           (None, 28, 28, 512)       2359808   \n",
      "                                                                 \n",
      " conv2d_9 (Conv2D)           (None, 28, 28, 512)       2359808   \n",
      "                                                                 \n",
      " max_pooling2d_3 (MaxPooling  (None, 14, 14, 512)      0         \n",
      " 2D)                                                             \n",
      "                                                                 \n",
      " conv2d_10 (Conv2D)          (None, 14, 14, 512)       2359808   \n",
      "                                                                 \n",
      " conv2d_11 (Conv2D)          (None, 14, 14, 512)       2359808   \n",
      "                                                                 \n",
      " conv2d_12 (Conv2D)          (None, 14, 14, 512)       2359808   \n",
      "                                                                 \n",
      " max_pooling2d_4 (MaxPooling  (None, 7, 7, 512)        0         \n",
      " 2D)                                                             \n",
      "                                                                 \n",
      " flatten (Flatten)           (None, 25088)             0         \n",
      "                                                                 \n",
      " dense (Dense)               (None, 4096)              102764544 \n",
      "                                                                 \n",
      " dropout (Dropout)           (None, 4096)              0         \n",
      "                                                                 \n",
      " dense_1 (Dense)             (None, 4096)              16781312  \n",
      "                                                                 \n",
      " dropout_1 (Dropout)         (None, 4096)              0         \n",
      "                                                                 \n",
      " dense_2 (Dense)             (None, 2)                 8194      \n",
      "                                                                 \n",
      "=================================================================\n",
      "Total params: 134,268,738\n",
      "Trainable params: 134,268,738\n",
      "Non-trainable params: 0\n",
      "_________________________________________________________________\n"
     ]
    }
   ],
   "source": [
    "vgg16_model.summary()"
   ]
  },
  {
   "cell_type": "code",
   "execution_count": 29,
   "metadata": {},
   "outputs": [],
   "source": [
    "opt=tf.keras.optimizers.SGD(learning_rate=0.001)"
   ]
  },
  {
   "cell_type": "markdown",
   "metadata": {},
   "source": [
    "# Training the Model"
   ]
  },
  {
   "cell_type": "code",
   "execution_count": 92,
   "metadata": {
    "tags": []
   },
   "outputs": [],
   "source": [
    "vgg16_model.compile(\n",
    "    loss='sparse_categorical_crossentropy',\n",
    "    optimizer=opt,\n",
    "    metrics=['accuracy']    \n",
    ")"
   ]
  },
  {
   "cell_type": "code",
   "execution_count": 101,
   "metadata": {
    "tags": []
   },
   "outputs": [
    {
     "name": "stdout",
     "output_type": "stream",
     "text": [
      "Epoch 1/30\n",
      "21/21 [==============================] - 316s 15s/step - loss: nan - accuracy: 0.4675 - val_loss: nan - val_accuracy: 0.5714\n",
      "Epoch 2/30\n",
      "21/21 [==============================] - 310s 15s/step - loss: nan - accuracy: 0.4903 - val_loss: nan - val_accuracy: 0.5714\n",
      "Epoch 3/30\n",
      "21/21 [==============================] - 308s 15s/step - loss: nan - accuracy: 0.4903 - val_loss: nan - val_accuracy: 0.5714\n",
      "Epoch 4/30\n",
      "21/21 [==============================] - 275s 13s/step - loss: nan - accuracy: 0.4903 - val_loss: nan - val_accuracy: 0.5714\n",
      "Epoch 5/30\n",
      "21/21 [==============================] - 229s 11s/step - loss: nan - accuracy: 0.4903 - val_loss: nan - val_accuracy: 0.5714\n",
      "Epoch 6/30\n",
      "21/21 [==============================] - 236s 11s/step - loss: nan - accuracy: 0.4903 - val_loss: nan - val_accuracy: 0.5714\n",
      "Epoch 7/30\n",
      "21/21 [==============================] - 269s 13s/step - loss: nan - accuracy: 0.4903 - val_loss: nan - val_accuracy: 0.5714\n",
      "Epoch 8/30\n",
      "21/21 [==============================] - 327s 15s/step - loss: nan - accuracy: 0.4903 - val_loss: nan - val_accuracy: 0.5714\n",
      "Epoch 9/30\n",
      "21/21 [==============================] - 334s 16s/step - loss: nan - accuracy: 0.4903 - val_loss: nan - val_accuracy: 0.5714\n",
      "Epoch 10/30\n",
      "21/21 [==============================] - 322s 15s/step - loss: nan - accuracy: 0.4903 - val_loss: nan - val_accuracy: 0.5714\n",
      "Epoch 11/30\n",
      "21/21 [==============================] - 266s 13s/step - loss: nan - accuracy: 0.4903 - val_loss: nan - val_accuracy: 0.5714\n",
      "Epoch 12/30\n",
      "21/21 [==============================] - 254s 12s/step - loss: nan - accuracy: 0.4903 - val_loss: nan - val_accuracy: 0.5714\n",
      "Epoch 13/30\n",
      "21/21 [==============================] - 235s 11s/step - loss: nan - accuracy: 0.4903 - val_loss: nan - val_accuracy: 0.5714\n",
      "Epoch 14/30\n",
      "21/21 [==============================] - 232s 11s/step - loss: nan - accuracy: 0.4903 - val_loss: nan - val_accuracy: 0.5714\n",
      "Epoch 15/30\n",
      "21/21 [==============================] - 222s 11s/step - loss: nan - accuracy: 0.4903 - val_loss: nan - val_accuracy: 0.5714\n",
      "Epoch 16/30\n",
      "21/21 [==============================] - 222s 11s/step - loss: nan - accuracy: 0.4903 - val_loss: nan - val_accuracy: 0.5714\n",
      "Epoch 17/30\n",
      "21/21 [==============================] - 8618s 430s/step - loss: nan - accuracy: 0.4903 - val_loss: nan - val_accuracy: 0.5714\n",
      "Epoch 18/30\n",
      "21/21 [==============================] - 260s 12s/step - loss: nan - accuracy: 0.4903 - val_loss: nan - val_accuracy: 0.5714\n",
      "Epoch 19/30\n",
      "21/21 [==============================] - 255s 12s/step - loss: nan - accuracy: 0.4903 - val_loss: nan - val_accuracy: 0.5714\n",
      "Epoch 20/30\n",
      "21/21 [==============================] - 250s 12s/step - loss: nan - accuracy: 0.4903 - val_loss: nan - val_accuracy: 0.5714\n",
      "Epoch 21/30\n",
      "21/21 [==============================] - 258s 12s/step - loss: nan - accuracy: 0.4903 - val_loss: nan - val_accuracy: 0.5714\n",
      "Epoch 22/30\n",
      "21/21 [==============================] - 265s 13s/step - loss: nan - accuracy: 0.4903 - val_loss: nan - val_accuracy: 0.5714\n",
      "Epoch 23/30\n",
      "21/21 [==============================] - 283s 14s/step - loss: nan - accuracy: 0.4903 - val_loss: nan - val_accuracy: 0.5714\n",
      "Epoch 24/30\n",
      "21/21 [==============================] - 255s 12s/step - loss: nan - accuracy: 0.4903 - val_loss: nan - val_accuracy: 0.5714\n",
      "Epoch 25/30\n",
      "21/21 [==============================] - 271s 13s/step - loss: nan - accuracy: 0.4903 - val_loss: nan - val_accuracy: 0.5714\n",
      "Epoch 26/30\n",
      "21/21 [==============================] - 259s 12s/step - loss: nan - accuracy: 0.4903 - val_loss: nan - val_accuracy: 0.5714\n",
      "Epoch 27/30\n",
      "21/21 [==============================] - 266s 13s/step - loss: nan - accuracy: 0.4903 - val_loss: nan - val_accuracy: 0.5714\n",
      "Epoch 28/30\n",
      "21/21 [==============================] - 248s 12s/step - loss: nan - accuracy: 0.4903 - val_loss: nan - val_accuracy: 0.5714\n",
      "Epoch 29/30\n",
      "21/21 [==============================] - 245s 12s/step - loss: nan - accuracy: 0.4903 - val_loss: nan - val_accuracy: 0.5714\n",
      "Epoch 30/30\n",
      "21/21 [==============================] - 246s 12s/step - loss: nan - accuracy: 0.4903 - val_loss: nan - val_accuracy: 0.5714\n"
     ]
    }
   ],
   "source": [
    "history_vgg16=vgg16_model.fit(\n",
    "   x_train_VGG,y_train_VGG,\n",
    "    epochs=30,\n",
    "    batch_size=15,\n",
    "   validation_split=0.1\n",
    ")"
   ]
  },
  {
   "cell_type": "markdown",
   "metadata": {},
   "source": [
    "# Evaluating the model on test data"
   ]
  },
  {
   "cell_type": "code",
   "execution_count": 102,
   "metadata": {},
   "outputs": [
    {
     "name": "stdout",
     "output_type": "stream",
     "text": [
      "2/2 [==============================] - 8s 4s/step - loss: nan - accuracy: 0.5082\n"
     ]
    }
   ],
   "source": [
    "pred_VGG16=vgg16_model.evaluate(x_test_VGG, y_test_VGG)"
   ]
  },
  {
   "cell_type": "code",
   "execution_count": 365,
   "metadata": {},
   "outputs": [
    {
     "name": "stdout",
     "output_type": "stream",
     "text": [
      "11/11 [==============================] - 68s 6s/step - loss: nan - accuracy: 0.4985\n"
     ]
    }
   ],
   "source": [
    "pred_VGG16=vgg16_model.evaluate(x_train_VGG,y_train_VGG)"
   ]
  },
  {
   "cell_type": "markdown",
   "metadata": {},
   "source": [
    "# Display the predicted output of the test data¶"
   ]
  },
  {
   "cell_type": "code",
   "execution_count": 103,
   "metadata": {},
   "outputs": [
    {
     "name": "stdout",
     "output_type": "stream",
     "text": [
      "[0 0 0 0 0 0 0 0 0 0 0 0 0 0 0 0 0 0 0 0 0 0 0 0 0 0 0 0 0 0 0 0 0 0 0 0 0\n",
      " 0 0 0 0 0 0 0 0 0 0 0 0 0 0 0 0 0 0 0 0 0 0 0 0]\n",
      "61\n"
     ]
    },
    {
     "data": {
      "text/plain": [
       "61"
      ]
     },
     "execution_count": 103,
     "metadata": {},
     "output_type": "execute_result"
    }
   ],
   "source": [
    "import numpy as np\n",
    "y_pred_vgg16 = np.argmax(vgg16_model.predict(x_test_VGG), axis=1)\n",
    "print(y_pred_vgg16)\n",
    "print(len(y_pred_vgg16))\n",
    "len(y_test_VGG)"
   ]
  },
  {
   "cell_type": "code",
   "execution_count": 104,
   "metadata": {},
   "outputs": [
    {
     "data": {
      "text/plain": [
       "array([0, 0, 0, 0, 0, 0, 0, 0, 0, 0, 0, 0, 0, 0, 0, 0, 0, 0, 0, 0, 0, 0,\n",
       "       0, 0, 0, 0, 0, 0, 0, 0, 0, 0, 0, 0, 0, 0, 0, 0, 0, 0, 0, 0, 0, 0,\n",
       "       0, 0, 0, 0, 0, 0, 0, 0, 0, 0, 0, 0, 0, 0, 0, 0, 0], dtype=int64)"
      ]
     },
     "execution_count": 104,
     "metadata": {},
     "output_type": "execute_result"
    }
   ],
   "source": [
    "y_pred_vgg16"
   ]
  },
  {
   "cell_type": "markdown",
   "metadata": {},
   "source": [
    "# Create Confusion Matrix"
   ]
  },
  {
   "cell_type": "code",
   "execution_count": 105,
   "metadata": {},
   "outputs": [
    {
     "data": {
      "text/html": [
       "<div>\n",
       "<style scoped>\n",
       "    .dataframe tbody tr th:only-of-type {\n",
       "        vertical-align: middle;\n",
       "    }\n",
       "\n",
       "    .dataframe tbody tr th {\n",
       "        vertical-align: top;\n",
       "    }\n",
       "\n",
       "    .dataframe thead th {\n",
       "        text-align: right;\n",
       "    }\n",
       "</style>\n",
       "<table border=\"1\" class=\"dataframe\">\n",
       "  <thead>\n",
       "    <tr style=\"text-align: right;\">\n",
       "      <th></th>\n",
       "      <th>Mild</th>\n",
       "      <th>Severe</th>\n",
       "    </tr>\n",
       "  </thead>\n",
       "  <tbody>\n",
       "    <tr>\n",
       "      <th>Mild</th>\n",
       "      <td>31</td>\n",
       "      <td>30</td>\n",
       "    </tr>\n",
       "    <tr>\n",
       "      <th>Severe</th>\n",
       "      <td>0</td>\n",
       "      <td>0</td>\n",
       "    </tr>\n",
       "  </tbody>\n",
       "</table>\n",
       "</div>"
      ],
      "text/plain": [
       "        Mild  Severe\n",
       "Mild      31      30\n",
       "Severe     0       0"
      ]
     },
     "execution_count": 105,
     "metadata": {},
     "output_type": "execute_result"
    }
   ],
   "source": [
    "import seaborn as sns\n",
    "from sklearn.metrics import confusion_matrix, classification_report\n",
    "cm_vgg16=confusion_matrix(y_pred_vgg16,y_test_VGG)\n",
    "cm_df_vgg16 = pd.DataFrame(cm_vgg16, index=['Mild','Severe'], columns=['Mild','Severe'])\n",
    "cm_df_vgg16.head()"
   ]
  },
  {
   "cell_type": "code",
   "execution_count": 106,
   "metadata": {},
   "outputs": [
    {
     "data": {
      "image/png": "[encoded data removed]",
      "text/plain": [
       "<Figure size 432x288 with 2 Axes>"
      ]
     },
     "metadata": {},
     "output_type": "display_data"
    }
   ],
   "source": [
    "sns.set(font_scale=1.5, color_codes=True, palette='deep')\n",
    "sns.heatmap(cm_df_vgg16/np.sum(cm_df_vgg16), annot=True, \n",
    "            fmt='.2%', cmap='Pastel1_r')\n",
    "plt.ylabel(\"True Label\")\n",
    "plt.xlabel(\"Predicted Label\")\n",
    "plt.title('Confusion Matrix Testing Data')\n",
    "plt.show()"
   ]
  },
  {
   "cell_type": "markdown",
   "metadata": {},
   "source": [
    "# AlexNet"
   ]
  },
  {
   "cell_type": "markdown",
   "metadata": {},
   "source": [
    "# Resizing images"
   ]
  },
  {
   "cell_type": "code",
   "execution_count": 57,
   "metadata": {},
   "outputs": [],
   "source": [
    "resized_image_AlexNet=[]\n",
    "for i in imagePaths:\n",
    "    image1_AlexNet=dicom.read_file(i)\n",
    "    im_AlexNet=image1_AlexNet.pixel_array\n",
    "    im2_AlexNet=cv2.resize(im_AlexNet,(227,227))\n",
    "    resized_image_AlexNet.append(im2_AlexNet)"
   ]
  },
  {
   "cell_type": "code",
   "execution_count": 58,
   "metadata": {},
   "outputs": [
    {
     "data": {
      "text/plain": [
       "404"
      ]
     },
     "execution_count": 58,
     "metadata": {},
     "output_type": "execute_result"
    }
   ],
   "source": [
    "len(resized_image_AlexNet)"
   ]
  },
  {
   "cell_type": "code",
   "execution_count": null,
   "metadata": {},
   "outputs": [],
   "source": []
  },
  {
   "cell_type": "code",
   "execution_count": 59,
   "metadata": {},
   "outputs": [],
   "source": [
    "lst1_AlexNet=[]\n",
    "for i in resized_image_AlexNet[0:]:\n",
    "    resized_images_AlexNet=np.array([i,i,i])\n",
    "    resized_images_AlexNet=np.moveaxis(resized_images_AlexNet,0,-1)\n",
    "    lst1_AlexNet.append(resized_images_AlexNet)"
   ]
  },
  {
   "cell_type": "code",
   "execution_count": 60,
   "metadata": {},
   "outputs": [
    {
     "data": {
      "text/plain": [
       "(404, 227, 227, 3)"
      ]
     },
     "execution_count": 60,
     "metadata": {},
     "output_type": "execute_result"
    }
   ],
   "source": [
    "images_AlexNet=np.array(lst1_AlexNet)\n",
    "images_AlexNet=np.array(lst1_AlexNet)\n",
    "images_AlexNet.shape"
   ]
  },
  {
   "cell_type": "markdown",
   "metadata": {},
   "source": [
    "# Splitting the dataset into training and testing"
   ]
  },
  {
   "cell_type": "code",
   "execution_count": 61,
   "metadata": {},
   "outputs": [],
   "source": [
    "from sklearn.model_selection import train_test_split\n",
    "x_train_AlexNet, x_test_AlexNet, y_train_AlexNet, y_test_AlexNet = train_test_split(images_AlexNet, updated_label,test_size=0.15,shuffle=True,stratify=updated_label)"
   ]
  },
  {
   "cell_type": "code",
   "execution_count": 62,
   "metadata": {},
   "outputs": [
    {
     "data": {
      "text/plain": [
       "(array([171.,   0.,   0.,   0.,   0.,   0.,   0.,   0.,   0., 172.]),\n",
       " array([0. , 0.1, 0.2, 0.3, 0.4, 0.5, 0.6, 0.7, 0.8, 0.9, 1. ]),\n",
       " <BarContainer object of 10 artists>)"
      ]
     },
     "execution_count": 62,
     "metadata": {},
     "output_type": "execute_result"
    },
    {
     "data": {
      "image/png": "[encoded data removed]",
      "text/plain": [
       "<Figure size 432x288 with 1 Axes>"
      ]
     },
     "metadata": {},
     "output_type": "display_data"
    }
   ],
   "source": [
    "plt.hist(y_train_AlexNet)"
   ]
  },
  {
   "cell_type": "code",
   "execution_count": 63,
   "metadata": {},
   "outputs": [
    {
     "data": {
      "text/plain": [
       "(array([31.,  0.,  0.,  0.,  0.,  0.,  0.,  0.,  0., 30.]),\n",
       " array([0. , 0.1, 0.2, 0.3, 0.4, 0.5, 0.6, 0.7, 0.8, 0.9, 1. ]),\n",
       " <BarContainer object of 10 artists>)"
      ]
     },
     "execution_count": 63,
     "metadata": {},
     "output_type": "execute_result"
    },
    {
     "data": {
      "image/png": "[encoded data removed]",
      "text/plain": [
       "<Figure size 432x288 with 1 Axes>"
      ]
     },
     "metadata": {},
     "output_type": "display_data"
    }
   ],
   "source": [
    "plt.hist(y_test_AlexNet)"
   ]
  },
  {
   "cell_type": "code",
   "execution_count": 64,
   "metadata": {},
   "outputs": [],
   "source": [
    "img_input = keras.Input(shape=(227, 227, 3))\n",
    "channel_axis=3"
   ]
  },
  {
   "cell_type": "code",
   "execution_count": 65,
   "metadata": {},
   "outputs": [],
   "source": [
    "model=keras.models.Sequential([\n",
    "    keras.layers.Conv2D(filters=96, kernel_size=(11,11), strides=(4,4), activation='relu', input_shape=(227,227,3)),\n",
    "    keras.layers.BatchNormalization(),\n",
    "    keras.layers.MaxPool2D(pool_size=(3,3),strides=(2,2)),\n",
    "    keras.layers.Conv2D(filters=256, kernel_size=(5,5), strides=(1,1), activation='relu', padding=\"same\"),\n",
    "    keras.layers.BatchNormalization(),\n",
    "    keras.layers.MaxPool2D(pool_size=(3,3),strides=(2,2)),\n",
    "    keras.layers.Conv2D(filters=384, kernel_size=(3,3), strides=(1,1), activation='relu', padding=\"same\"),\n",
    "    keras.layers.BatchNormalization(),\n",
    "    keras.layers.Conv2D(filters=384, kernel_size=(3,3), strides=(1,1), activation='relu', padding=\"same\"),\n",
    "    keras.layers.BatchNormalization(),\n",
    "    keras.layers.Conv2D(filters=256, kernel_size=(3,3), strides=(1,1), activation='relu', padding=\"same\"),\n",
    "    keras.layers.BatchNormalization(),\n",
    "    keras.layers.MaxPool2D(pool_size=(3,3),strides=(2,2)),\n",
    "    keras.layers.Flatten(),\n",
    "    keras.layers.Dense(4096,activation='relu'),\n",
    "    keras.layers.Dropout(0.5),\n",
    "    keras.layers.Dense(4096,activation='relu'),\n",
    "    keras.layers.Dropout(0.5),\n",
    "    keras.layers.Dense(2,activation='softmax')      \n",
    "])"
   ]
  },
  {
   "cell_type": "markdown",
   "metadata": {
    "jp-MarkdownHeadingCollapsed": true,
    "tags": []
   },
   "source": [
    "# Create model"
   ]
  },
  {
   "cell_type": "markdown",
   "metadata": {},
   "source": [
    "# RMSprop Optimizer"
   ]
  },
  {
   "cell_type": "code",
   "execution_count": 66,
   "metadata": {},
   "outputs": [
    {
     "name": "stdout",
     "output_type": "stream",
     "text": [
      "Model: \"sequential_1\"\n",
      "_________________________________________________________________\n",
      " Layer (type)                Output Shape              Param #   \n",
      "=================================================================\n",
      " conv2d_18 (Conv2D)          (None, 55, 55, 96)        34944     \n",
      "                                                                 \n",
      " batch_normalization_5 (Batc  (None, 55, 55, 96)       384       \n",
      " hNormalization)                                                 \n",
      "                                                                 \n",
      " max_pooling2d_8 (MaxPooling  (None, 27, 27, 96)       0         \n",
      " 2D)                                                             \n",
      "                                                                 \n",
      " conv2d_19 (Conv2D)          (None, 27, 27, 256)       614656    \n",
      "                                                                 \n",
      " batch_normalization_6 (Batc  (None, 27, 27, 256)      1024      \n",
      " hNormalization)                                                 \n",
      "                                                                 \n",
      " max_pooling2d_9 (MaxPooling  (None, 13, 13, 256)      0         \n",
      " 2D)                                                             \n",
      "                                                                 \n",
      " conv2d_20 (Conv2D)          (None, 13, 13, 384)       885120    \n",
      "                                                                 \n",
      " batch_normalization_7 (Batc  (None, 13, 13, 384)      1536      \n",
      " hNormalization)                                                 \n",
      "                                                                 \n",
      " conv2d_21 (Conv2D)          (None, 13, 13, 384)       1327488   \n",
      "                                                                 \n",
      " batch_normalization_8 (Batc  (None, 13, 13, 384)      1536      \n",
      " hNormalization)                                                 \n",
      "                                                                 \n",
      " conv2d_22 (Conv2D)          (None, 13, 13, 256)       884992    \n",
      "                                                                 \n",
      " batch_normalization_9 (Batc  (None, 13, 13, 256)      1024      \n",
      " hNormalization)                                                 \n",
      "                                                                 \n",
      " max_pooling2d_10 (MaxPoolin  (None, 6, 6, 256)        0         \n",
      " g2D)                                                            \n",
      "                                                                 \n",
      " flatten_2 (Flatten)         (None, 9216)              0         \n",
      "                                                                 \n",
      " dense_6 (Dense)             (None, 4096)              37752832  \n",
      "                                                                 \n",
      " dropout_4 (Dropout)         (None, 4096)              0         \n",
      "                                                                 \n",
      " dense_7 (Dense)             (None, 4096)              16781312  \n",
      "                                                                 \n",
      " dropout_5 (Dropout)         (None, 4096)              0         \n",
      "                                                                 \n",
      " dense_8 (Dense)             (None, 2)                 8194      \n",
      "                                                                 \n",
      "=================================================================\n",
      "Total params: 58,295,042\n",
      "Trainable params: 58,292,290\n",
      "Non-trainable params: 2,752\n",
      "_________________________________________________________________\n"
     ]
    }
   ],
   "source": [
    "model.compile(\n",
    "    loss='sparse_categorical_crossentropy',\n",
    "    optimizer=tf.optimizers.RMSprop(lr=0.0001),\n",
    "    metrics=['accuracy']    \n",
    ")\n",
    "model.summary()"
   ]
  },
  {
   "cell_type": "code",
   "execution_count": 67,
   "metadata": {},
   "outputs": [
    {
     "name": "stdout",
     "output_type": "stream",
     "text": [
      "Epoch 1/30\n",
      "13/13 [==============================] - 33s 2s/step - loss: 6.8449 - accuracy: 0.4416 - val_loss: 2.1412 - val_accuracy: 0.6571\n",
      "Epoch 2/30\n",
      "13/13 [==============================] - 30s 2s/step - loss: 2.5877 - accuracy: 0.5162 - val_loss: 4.3156 - val_accuracy: 0.7714\n",
      "Epoch 3/30\n",
      "13/13 [==============================] - 30s 2s/step - loss: 3.2132 - accuracy: 0.5032 - val_loss: 6.5776 - val_accuracy: 0.3714\n",
      "Epoch 4/30\n",
      "13/13 [==============================] - 30s 2s/step - loss: 1.8665 - accuracy: 0.5519 - val_loss: 4.1486 - val_accuracy: 0.4857\n",
      "Epoch 5/30\n",
      "13/13 [==============================] - 31s 2s/step - loss: 2.2316 - accuracy: 0.5422 - val_loss: 7.7470 - val_accuracy: 0.3429\n",
      "Epoch 6/30\n",
      "13/13 [==============================] - 31s 2s/step - loss: 2.7318 - accuracy: 0.5195 - val_loss: 3.2564 - val_accuracy: 0.5714\n",
      "Epoch 7/30\n",
      "13/13 [==============================] - 30s 2s/step - loss: 1.8457 - accuracy: 0.5682 - val_loss: 2.4012 - val_accuracy: 0.4857\n",
      "Epoch 8/30\n",
      "13/13 [==============================] - 30s 2s/step - loss: 1.9446 - accuracy: 0.5195 - val_loss: 2.6935 - val_accuracy: 0.6571\n",
      "Epoch 9/30\n",
      "13/13 [==============================] - 30s 2s/step - loss: 1.5552 - accuracy: 0.5682 - val_loss: 1.6453 - val_accuracy: 0.6000\n",
      "Epoch 10/30\n",
      "13/13 [==============================] - 30s 2s/step - loss: 1.4268 - accuracy: 0.5617 - val_loss: 1.8384 - val_accuracy: 0.4857\n",
      "Epoch 11/30\n",
      "13/13 [==============================] - 30s 2s/step - loss: 1.6599 - accuracy: 0.5455 - val_loss: 1.1500 - val_accuracy: 0.5429\n",
      "Epoch 12/30\n",
      "13/13 [==============================] - 30s 2s/step - loss: 2.0596 - accuracy: 0.5844 - val_loss: 1.3853 - val_accuracy: 0.6000\n",
      "Epoch 13/30\n",
      "13/13 [==============================] - 33s 3s/step - loss: 1.9489 - accuracy: 0.5519 - val_loss: 2.3601 - val_accuracy: 0.6286\n",
      "Epoch 14/30\n",
      "13/13 [==============================] - 32s 2s/step - loss: 1.4487 - accuracy: 0.6039 - val_loss: 1.4325 - val_accuracy: 0.5429\n",
      "Epoch 15/30\n",
      "13/13 [==============================] - 31s 2s/step - loss: 1.8406 - accuracy: 0.5584 - val_loss: 1.5207 - val_accuracy: 0.5714\n",
      "Epoch 16/30\n",
      "13/13 [==============================] - 31s 2s/step - loss: 2.0261 - accuracy: 0.5519 - val_loss: 2.8788 - val_accuracy: 0.4857\n",
      "Epoch 17/30\n",
      "13/13 [==============================] - 32s 2s/step - loss: 1.4852 - accuracy: 0.5422 - val_loss: 1.5117 - val_accuracy: 0.4571\n",
      "Epoch 18/30\n",
      "13/13 [==============================] - 32s 2s/step - loss: 1.5923 - accuracy: 0.5812 - val_loss: 2.0055 - val_accuracy: 0.5143\n",
      "Epoch 19/30\n",
      "13/13 [==============================] - 34s 3s/step - loss: 1.5157 - accuracy: 0.6104 - val_loss: 2.6072 - val_accuracy: 0.5429\n",
      "Epoch 20/30\n",
      "13/13 [==============================] - 31s 2s/step - loss: 1.2835 - accuracy: 0.5455 - val_loss: 1.1250 - val_accuracy: 0.5429\n",
      "Epoch 21/30\n",
      "13/13 [==============================] - 30s 2s/step - loss: 1.1740 - accuracy: 0.6266 - val_loss: 1.8144 - val_accuracy: 0.6286\n",
      "Epoch 22/30\n",
      "13/13 [==============================] - 30s 2s/step - loss: 1.4343 - accuracy: 0.6136 - val_loss: 2.9724 - val_accuracy: 0.5429\n",
      "Epoch 23/30\n",
      "13/13 [==============================] - 30s 2s/step - loss: 1.6758 - accuracy: 0.6169 - val_loss: 0.7080 - val_accuracy: 0.6000\n",
      "Epoch 24/30\n",
      "13/13 [==============================] - 30s 2s/step - loss: 1.0791 - accuracy: 0.6169 - val_loss: 1.2699 - val_accuracy: 0.5429\n",
      "Epoch 25/30\n",
      "13/13 [==============================] - 31s 2s/step - loss: 1.3086 - accuracy: 0.6169 - val_loss: 1.0439 - val_accuracy: 0.6000\n",
      "Epoch 26/30\n",
      "13/13 [==============================] - 30s 2s/step - loss: 0.9736 - accuracy: 0.6266 - val_loss: 1.9378 - val_accuracy: 0.6286\n",
      "Epoch 27/30\n",
      "13/13 [==============================] - 31s 2s/step - loss: 1.0606 - accuracy: 0.6656 - val_loss: 1.1407 - val_accuracy: 0.6571\n",
      "Epoch 28/30\n",
      "13/13 [==============================] - 30s 2s/step - loss: 1.1513 - accuracy: 0.6364 - val_loss: 1.7550 - val_accuracy: 0.5429\n",
      "Epoch 29/30\n",
      "13/13 [==============================] - 31s 2s/step - loss: 0.8093 - accuracy: 0.6753 - val_loss: 1.4925 - val_accuracy: 0.5143\n",
      "Epoch 30/30\n",
      "13/13 [==============================] - 30s 2s/step - loss: 1.0701 - accuracy: 0.6429 - val_loss: 1.4393 - val_accuracy: 0.5429\n"
     ]
    }
   ],
   "source": [
    "history=model.fit(\n",
    "    x_train_AlexNet,y_train_AlexNet,\n",
    "    epochs=30,\n",
    "    batch_size=25,\n",
    "    validation_split=0.1\n",
    ")"
   ]
  },
  {
   "cell_type": "markdown",
   "metadata": {},
   "source": [
    "# Evaluating the model on test data"
   ]
  },
  {
   "cell_type": "code",
   "execution_count": 68,
   "metadata": {},
   "outputs": [
    {
     "name": "stdout",
     "output_type": "stream",
     "text": [
      "2/2 [==============================] - 1s 371ms/step - loss: 1.0066 - accuracy: 0.6230\n"
     ]
    }
   ],
   "source": [
    "pred_AlexNet=model.evaluate(x_test_AlexNet,y_test_AlexNet)"
   ]
  },
  {
   "cell_type": "code",
   "execution_count": 69,
   "metadata": {},
   "outputs": [
    {
     "name": "stdout",
     "output_type": "stream",
     "text": [
      "11/11 [==============================] - 4s 393ms/step - loss: 0.8424 - accuracy: 0.6356\n"
     ]
    }
   ],
   "source": [
    "pred_AlexNet=model.evaluate(x_train_AlexNet,y_train_AlexNet)"
   ]
  },
  {
   "cell_type": "markdown",
   "metadata": {},
   "source": [
    "# Display the predicted output of the test data"
   ]
  },
  {
   "cell_type": "code",
   "execution_count": 121,
   "metadata": {},
   "outputs": [
    {
     "name": "stdout",
     "output_type": "stream",
     "text": [
      "[1 1 1 1 1 0 1 0 1 0 1 0 1 0 1 0 1 1 1 1 1 1 1 1 1 1 0 1 1 1 0 1 1 0 1 1 1\n",
      " 1 1 1 1 0 1 1 1 0 1 1 1 0 1 1 0 1 1 0 1 1 1 1 1]\n",
      "61\n"
     ]
    },
    {
     "data": {
      "text/plain": [
       "61"
      ]
     },
     "execution_count": 121,
     "metadata": {},
     "output_type": "execute_result"
    }
   ],
   "source": [
    "import numpy as np\n",
    "y_pred_AlexNet = np.argmax(model.predict(x_test_AlexNet), axis=1)\n",
    "print(y_pred_AlexNet)\n",
    "print(len(y_pred_AlexNet))\n",
    "len(y_test_AlexNet)"
   ]
  },
  {
   "cell_type": "markdown",
   "metadata": {},
   "source": [
    "# Create Confusion Matrix"
   ]
  },
  {
   "cell_type": "code",
   "execution_count": 75,
   "metadata": {},
   "outputs": [
    {
     "data": {
      "text/html": [
       "<div>\n",
       "<style scoped>\n",
       "    .dataframe tbody tr th:only-of-type {\n",
       "        vertical-align: middle;\n",
       "    }\n",
       "\n",
       "    .dataframe tbody tr th {\n",
       "        vertical-align: top;\n",
       "    }\n",
       "\n",
       "    .dataframe thead th {\n",
       "        text-align: right;\n",
       "    }\n",
       "</style>\n",
       "<table border=\"1\" class=\"dataframe\">\n",
       "  <thead>\n",
       "    <tr style=\"text-align: right;\">\n",
       "      <th></th>\n",
       "      <th>Mild</th>\n",
       "      <th>Severe</th>\n",
       "    </tr>\n",
       "  </thead>\n",
       "  <tbody>\n",
       "    <tr>\n",
       "      <th>Mild</th>\n",
       "      <td>11</td>\n",
       "      <td>3</td>\n",
       "    </tr>\n",
       "    <tr>\n",
       "      <th>Severe</th>\n",
       "      <td>20</td>\n",
       "      <td>27</td>\n",
       "    </tr>\n",
       "  </tbody>\n",
       "</table>\n",
       "</div>"
      ],
      "text/plain": [
       "        Mild  Severe\n",
       "Mild      11       3\n",
       "Severe    20      27"
      ]
     },
     "execution_count": 75,
     "metadata": {},
     "output_type": "execute_result"
    }
   ],
   "source": [
    "import seaborn as sns\n",
    "from sklearn.metrics import confusion_matrix, classification_report\n",
    "cm_AlexNet=confusion_matrix(y_pred_AlexNet,y_test_AlexNet)\n",
    "cm_df_AlexNet = pd.DataFrame(cm_AlexNet, index=['Mild','Severe'], columns=['Mild','Severe'])\n",
    "cm_df_AlexNet.head()"
   ]
  },
  {
   "cell_type": "code",
   "execution_count": 72,
   "metadata": {},
   "outputs": [
    {
     "data": {
      "image/png": "[encoded data removed]",
      "text/plain": [
       "<Figure size 432x288 with 2 Axes>"
      ]
     },
     "metadata": {},
     "output_type": "display_data"
    }
   ],
   "source": [
    "sns.set(font_scale=1.5, color_codes=True, palette='deep')\n",
    "sns.heatmap(cm_df_AlexNet/np.sum(cm_df_AlexNet), annot=True, \n",
    "            fmt='.2%', cmap='Pastel1_r')\n",
    "plt.ylabel(\"True Label\")\n",
    "plt.xlabel(\"Predicted Label\")\n",
    "plt.title('Confusion Matrix Testing Data')\n",
    "plt.show()"
   ]
  },
  {
   "cell_type": "markdown",
   "metadata": {},
   "source": [
    "# Classification Report"
   ]
  },
  {
   "cell_type": "code",
   "execution_count": 73,
   "metadata": {},
   "outputs": [
    {
     "name": "stdout",
     "output_type": "stream",
     "text": [
      "              precision    recall  f1-score   support\n",
      "\n",
      "           0       0.79      0.35      0.49        31\n",
      "           1       0.57      0.90      0.70        30\n",
      "\n",
      "    accuracy                           0.62        61\n",
      "   macro avg       0.68      0.63      0.60        61\n",
      "weighted avg       0.68      0.62      0.59        61\n",
      "\n"
     ]
    }
   ],
   "source": [
    "from sklearn.metrics import classification_report\n",
    "print(classification_report(y_test_AlexNet,y_pred_AlexNet))"
   ]
  },
  {
   "cell_type": "markdown",
   "metadata": {
    "tags": []
   },
   "source": [
    "# PREDICTION USING CLINICAL INFO"
   ]
  },
  {
   "cell_type": "code",
   "execution_count": 100,
   "metadata": {},
   "outputs": [
    {
     "data": {
      "text/html": [
       "<div>\n",
       "<style scoped>\n",
       "    .dataframe tbody tr th:only-of-type {\n",
       "        vertical-align: middle;\n",
       "    }\n",
       "\n",
       "    .dataframe tbody tr th {\n",
       "        vertical-align: top;\n",
       "    }\n",
       "\n",
       "    .dataframe thead th {\n",
       "        text-align: right;\n",
       "    }\n",
       "</style>\n",
       "<table border=\"1\" class=\"dataframe\">\n",
       "  <thead>\n",
       "    <tr style=\"text-align: right;\">\n",
       "      <th></th>\n",
       "      <th>Row_number</th>\n",
       "      <th>ImageFile</th>\n",
       "      <th>Age</th>\n",
       "      <th>Sex</th>\n",
       "      <th>Positivity at admission</th>\n",
       "      <th>Temp_C</th>\n",
       "      <th>DaysFever</th>\n",
       "      <th>Cough</th>\n",
       "      <th>DifficultyInBreathing</th>\n",
       "      <th>Therapy_anti-inflammatory</th>\n",
       "      <th>...</th>\n",
       "      <th>HighBloodPressure</th>\n",
       "      <th>Diabetes</th>\n",
       "      <th>Dementia</th>\n",
       "      <th>BPCO</th>\n",
       "      <th>Cancer</th>\n",
       "      <th>Chronic Kidney disease</th>\n",
       "      <th>RespiratoryFailure</th>\n",
       "      <th>Position</th>\n",
       "      <th>Prognosis</th>\n",
       "      <th>Death</th>\n",
       "    </tr>\n",
       "  </thead>\n",
       "  <tbody>\n",
       "    <tr>\n",
       "      <th>0</th>\n",
       "      <td>339</td>\n",
       "      <td>P_342.dcm</td>\n",
       "      <td>58</td>\n",
       "      <td>0</td>\n",
       "      <td>0</td>\n",
       "      <td>36.6</td>\n",
       "      <td>1</td>\n",
       "      <td>0</td>\n",
       "      <td>0</td>\n",
       "      <td>1</td>\n",
       "      <td>...</td>\n",
       "      <td>0</td>\n",
       "      <td>0</td>\n",
       "      <td>0</td>\n",
       "      <td>0</td>\n",
       "      <td>0</td>\n",
       "      <td>0</td>\n",
       "      <td>0</td>\n",
       "      <td>0</td>\n",
       "      <td>MILD</td>\n",
       "      <td>0</td>\n",
       "    </tr>\n",
       "    <tr>\n",
       "      <th>1</th>\n",
       "      <td>323</td>\n",
       "      <td>P_324.dcm</td>\n",
       "      <td>61</td>\n",
       "      <td>0</td>\n",
       "      <td>1</td>\n",
       "      <td>38.2</td>\n",
       "      <td>4</td>\n",
       "      <td>0</td>\n",
       "      <td>0</td>\n",
       "      <td>1</td>\n",
       "      <td>...</td>\n",
       "      <td>0</td>\n",
       "      <td>0</td>\n",
       "      <td>0</td>\n",
       "      <td>0</td>\n",
       "      <td>0</td>\n",
       "      <td>0</td>\n",
       "      <td>0</td>\n",
       "      <td>0</td>\n",
       "      <td>MILD</td>\n",
       "      <td>0</td>\n",
       "    </tr>\n",
       "    <tr>\n",
       "      <th>2</th>\n",
       "      <td>314</td>\n",
       "      <td>P_314.dcm</td>\n",
       "      <td>59</td>\n",
       "      <td>1</td>\n",
       "      <td>1</td>\n",
       "      <td>37.5</td>\n",
       "      <td>3</td>\n",
       "      <td>1</td>\n",
       "      <td>0</td>\n",
       "      <td>1</td>\n",
       "      <td>...</td>\n",
       "      <td>0</td>\n",
       "      <td>0</td>\n",
       "      <td>0</td>\n",
       "      <td>0</td>\n",
       "      <td>0</td>\n",
       "      <td>0</td>\n",
       "      <td>0</td>\n",
       "      <td>0</td>\n",
       "      <td>MILD</td>\n",
       "      <td>0</td>\n",
       "    </tr>\n",
       "    <tr>\n",
       "      <th>3</th>\n",
       "      <td>317</td>\n",
       "      <td>P_317.dcm</td>\n",
       "      <td>69</td>\n",
       "      <td>0</td>\n",
       "      <td>1</td>\n",
       "      <td>37.0</td>\n",
       "      <td>3</td>\n",
       "      <td>0</td>\n",
       "      <td>0</td>\n",
       "      <td>1</td>\n",
       "      <td>...</td>\n",
       "      <td>0</td>\n",
       "      <td>0</td>\n",
       "      <td>0</td>\n",
       "      <td>0</td>\n",
       "      <td>0</td>\n",
       "      <td>0</td>\n",
       "      <td>0</td>\n",
       "      <td>0</td>\n",
       "      <td>MILD</td>\n",
       "      <td>0</td>\n",
       "    </tr>\n",
       "    <tr>\n",
       "      <th>4</th>\n",
       "      <td>349</td>\n",
       "      <td>P_358.dcm</td>\n",
       "      <td>28</td>\n",
       "      <td>0</td>\n",
       "      <td>1</td>\n",
       "      <td>37.6</td>\n",
       "      <td>4</td>\n",
       "      <td>1</td>\n",
       "      <td>0</td>\n",
       "      <td>1</td>\n",
       "      <td>...</td>\n",
       "      <td>0</td>\n",
       "      <td>0</td>\n",
       "      <td>0</td>\n",
       "      <td>0</td>\n",
       "      <td>0</td>\n",
       "      <td>0</td>\n",
       "      <td>0</td>\n",
       "      <td>0</td>\n",
       "      <td>MILD</td>\n",
       "      <td>0</td>\n",
       "    </tr>\n",
       "  </tbody>\n",
       "</table>\n",
       "<p>5 rows × 37 columns</p>\n",
       "</div>"
      ],
      "text/plain": [
       "   Row_number  ImageFile  Age  Sex  Positivity at admission  Temp_C  \\\n",
       "0         339  P_342.dcm   58    0                        0    36.6   \n",
       "1         323  P_324.dcm   61    0                        1    38.2   \n",
       "2         314  P_314.dcm   59    1                        1    37.5   \n",
       "3         317  P_317.dcm   69    0                        1    37.0   \n",
       "4         349  P_358.dcm   28    0                        1    37.6   \n",
       "\n",
       "   DaysFever  Cough  DifficultyInBreathing  Therapy_anti-inflammatory   ...  \\\n",
       "0          1      0                      0                           1  ...   \n",
       "1          4      0                      0                           1  ...   \n",
       "2          3      1                      0                           1  ...   \n",
       "3          3      0                      0                           1  ...   \n",
       "4          4      1                      0                           1  ...   \n",
       "\n",
       "   HighBloodPressure  Diabetes  Dementia  BPCO  Cancer  \\\n",
       "0                  0         0         0     0       0   \n",
       "1                  0         0         0     0       0   \n",
       "2                  0         0         0     0       0   \n",
       "3                  0         0         0     0       0   \n",
       "4                  0         0         0     0       0   \n",
       "\n",
       "   Chronic Kidney disease  RespiratoryFailure  Position  Prognosis  Death  \n",
       "0                       0                   0         0       MILD      0  \n",
       "1                       0                   0         0       MILD      0  \n",
       "2                       0                   0         0       MILD      0  \n",
       "3                       0                   0         0       MILD      0  \n",
       "4                       0                   0         0       MILD      0  \n",
       "\n",
       "[5 rows x 37 columns]"
      ]
     },
     "execution_count": 100,
     "metadata": {},
     "output_type": "execute_result"
    }
   ],
   "source": [
    "#Importing the data\n",
    "df_credit2 = pd.read_csv(\"C:/Users/hp/es_dump_data.csv\")\n",
    "df_credit1 = pd.read_csv(\"C:/Users/hp/es_dump_data.csv\")\n",
    "df_credit1.head()"
   ]
  },
  {
   "cell_type": "code",
   "execution_count": 101,
   "metadata": {},
   "outputs": [
    {
     "data": {
      "text/html": [
       "<div>\n",
       "<style scoped>\n",
       "    .dataframe tbody tr th:only-of-type {\n",
       "        vertical-align: middle;\n",
       "    }\n",
       "\n",
       "    .dataframe tbody tr th {\n",
       "        vertical-align: top;\n",
       "    }\n",
       "\n",
       "    .dataframe thead th {\n",
       "        text-align: right;\n",
       "    }\n",
       "</style>\n",
       "<table border=\"1\" class=\"dataframe\">\n",
       "  <thead>\n",
       "    <tr style=\"text-align: right;\">\n",
       "      <th></th>\n",
       "      <th>Age</th>\n",
       "      <th>Sex</th>\n",
       "      <th>Positivity at admission</th>\n",
       "      <th>Temp_C</th>\n",
       "      <th>DaysFever</th>\n",
       "      <th>Cough</th>\n",
       "      <th>DifficultyInBreathing</th>\n",
       "      <th>Therapy_anti-inflammatory</th>\n",
       "      <th>Therapy_Tocilizumab</th>\n",
       "      <th>Therapy_Anakinra</th>\n",
       "      <th>...</th>\n",
       "      <th>HighBloodPressure</th>\n",
       "      <th>Diabetes</th>\n",
       "      <th>Dementia</th>\n",
       "      <th>BPCO</th>\n",
       "      <th>Cancer</th>\n",
       "      <th>Chronic Kidney disease</th>\n",
       "      <th>RespiratoryFailure</th>\n",
       "      <th>Position</th>\n",
       "      <th>Prognosis</th>\n",
       "      <th>Death</th>\n",
       "    </tr>\n",
       "  </thead>\n",
       "  <tbody>\n",
       "    <tr>\n",
       "      <th>0</th>\n",
       "      <td>58</td>\n",
       "      <td>0</td>\n",
       "      <td>0</td>\n",
       "      <td>36.6</td>\n",
       "      <td>1</td>\n",
       "      <td>0</td>\n",
       "      <td>0</td>\n",
       "      <td>1</td>\n",
       "      <td>0</td>\n",
       "      <td>0</td>\n",
       "      <td>...</td>\n",
       "      <td>0</td>\n",
       "      <td>0</td>\n",
       "      <td>0</td>\n",
       "      <td>0</td>\n",
       "      <td>0</td>\n",
       "      <td>0</td>\n",
       "      <td>0</td>\n",
       "      <td>0</td>\n",
       "      <td>MILD</td>\n",
       "      <td>0</td>\n",
       "    </tr>\n",
       "    <tr>\n",
       "      <th>1</th>\n",
       "      <td>61</td>\n",
       "      <td>0</td>\n",
       "      <td>1</td>\n",
       "      <td>38.2</td>\n",
       "      <td>4</td>\n",
       "      <td>0</td>\n",
       "      <td>0</td>\n",
       "      <td>1</td>\n",
       "      <td>0</td>\n",
       "      <td>0</td>\n",
       "      <td>...</td>\n",
       "      <td>0</td>\n",
       "      <td>0</td>\n",
       "      <td>0</td>\n",
       "      <td>0</td>\n",
       "      <td>0</td>\n",
       "      <td>0</td>\n",
       "      <td>0</td>\n",
       "      <td>0</td>\n",
       "      <td>MILD</td>\n",
       "      <td>0</td>\n",
       "    </tr>\n",
       "    <tr>\n",
       "      <th>2</th>\n",
       "      <td>59</td>\n",
       "      <td>1</td>\n",
       "      <td>1</td>\n",
       "      <td>37.5</td>\n",
       "      <td>3</td>\n",
       "      <td>1</td>\n",
       "      <td>0</td>\n",
       "      <td>1</td>\n",
       "      <td>0</td>\n",
       "      <td>0</td>\n",
       "      <td>...</td>\n",
       "      <td>0</td>\n",
       "      <td>0</td>\n",
       "      <td>0</td>\n",
       "      <td>0</td>\n",
       "      <td>0</td>\n",
       "      <td>0</td>\n",
       "      <td>0</td>\n",
       "      <td>0</td>\n",
       "      <td>MILD</td>\n",
       "      <td>0</td>\n",
       "    </tr>\n",
       "    <tr>\n",
       "      <th>3</th>\n",
       "      <td>69</td>\n",
       "      <td>0</td>\n",
       "      <td>1</td>\n",
       "      <td>37.0</td>\n",
       "      <td>3</td>\n",
       "      <td>0</td>\n",
       "      <td>0</td>\n",
       "      <td>1</td>\n",
       "      <td>0</td>\n",
       "      <td>0</td>\n",
       "      <td>...</td>\n",
       "      <td>0</td>\n",
       "      <td>0</td>\n",
       "      <td>0</td>\n",
       "      <td>0</td>\n",
       "      <td>0</td>\n",
       "      <td>0</td>\n",
       "      <td>0</td>\n",
       "      <td>0</td>\n",
       "      <td>MILD</td>\n",
       "      <td>0</td>\n",
       "    </tr>\n",
       "    <tr>\n",
       "      <th>4</th>\n",
       "      <td>28</td>\n",
       "      <td>0</td>\n",
       "      <td>1</td>\n",
       "      <td>37.6</td>\n",
       "      <td>4</td>\n",
       "      <td>1</td>\n",
       "      <td>0</td>\n",
       "      <td>1</td>\n",
       "      <td>0</td>\n",
       "      <td>0</td>\n",
       "      <td>...</td>\n",
       "      <td>0</td>\n",
       "      <td>0</td>\n",
       "      <td>0</td>\n",
       "      <td>0</td>\n",
       "      <td>0</td>\n",
       "      <td>0</td>\n",
       "      <td>0</td>\n",
       "      <td>0</td>\n",
       "      <td>MILD</td>\n",
       "      <td>0</td>\n",
       "    </tr>\n",
       "  </tbody>\n",
       "</table>\n",
       "<p>5 rows × 35 columns</p>\n",
       "</div>"
      ],
      "text/plain": [
       "   Age  Sex  Positivity at admission  Temp_C  DaysFever  Cough  \\\n",
       "0   58    0                        0    36.6          1      0   \n",
       "1   61    0                        1    38.2          4      0   \n",
       "2   59    1                        1    37.5          3      1   \n",
       "3   69    0                        1    37.0          3      0   \n",
       "4   28    0                        1    37.6          4      1   \n",
       "\n",
       "   DifficultyInBreathing  Therapy_anti-inflammatory   Therapy_Tocilizumab  \\\n",
       "0                      0                           1                    0   \n",
       "1                      0                           1                    0   \n",
       "2                      0                           1                    0   \n",
       "3                      0                           1                    0   \n",
       "4                      0                           1                    0   \n",
       "\n",
       "   Therapy_Anakinra  ...  HighBloodPressure  Diabetes  Dementia  BPCO  Cancer  \\\n",
       "0                 0  ...                  0         0         0     0       0   \n",
       "1                 0  ...                  0         0         0     0       0   \n",
       "2                 0  ...                  0         0         0     0       0   \n",
       "3                 0  ...                  0         0         0     0       0   \n",
       "4                 0  ...                  0         0         0     0       0   \n",
       "\n",
       "   Chronic Kidney disease  RespiratoryFailure  Position  Prognosis  Death  \n",
       "0                       0                   0         0       MILD      0  \n",
       "1                       0                   0         0       MILD      0  \n",
       "2                       0                   0         0       MILD      0  \n",
       "3                       0                   0         0       MILD      0  \n",
       "4                       0                   0         0       MILD      0  \n",
       "\n",
       "[5 rows x 35 columns]"
      ]
     },
     "execution_count": 101,
     "metadata": {},
     "output_type": "execute_result"
    }
   ],
   "source": [
    "df_credit1=df_credit1.drop(['Row_number', 'ImageFile'],axis=1)\n",
    "df_credit1.head()"
   ]
  },
  {
   "cell_type": "code",
   "execution_count": 102,
   "metadata": {},
   "outputs": [
    {
     "name": "stdout",
     "output_type": "stream",
     "text": [
      "<class 'pandas.core.frame.DataFrame'>\n",
      "RangeIndex: 378 entries, 0 to 377\n",
      "Data columns (total 35 columns):\n",
      " #   Column                      Non-Null Count  Dtype  \n",
      "---  ------                      --------------  -----  \n",
      " 0   Age                         378 non-null    int64  \n",
      " 1   Sex                         378 non-null    int64  \n",
      " 2   Positivity at admission     378 non-null    int64  \n",
      " 3   Temp_C                      378 non-null    float64\n",
      " 4   DaysFever                   378 non-null    int64  \n",
      " 5   Cough                       378 non-null    int64  \n",
      " 6   DifficultyInBreathing       378 non-null    int64  \n",
      " 7   Therapy_anti-inflammatory   378 non-null    int64  \n",
      " 8   Therapy_Tocilizumab         378 non-null    int64  \n",
      " 9   Therapy_Anakinra            378 non-null    int64  \n",
      " 10  Therapy_hydroxychloroquine  378 non-null    int64  \n",
      " 11  Therapy_antiviral           378 non-null    int64  \n",
      " 12  Therapy_Eparine             378 non-null    int64  \n",
      " 13  WBC                         378 non-null    float64\n",
      " 14  RBC                         378 non-null    float64\n",
      " 15  CRP                         378 non-null    float64\n",
      " 16  Glucose                     378 non-null    int64  \n",
      " 17  PaO2                        378 non-null    float64\n",
      " 18  PaCO2                       378 non-null    float64\n",
      " 19  pH                          378 non-null    float64\n",
      " 20  CardiovascularDisease       378 non-null    int64  \n",
      " 21  IschemicHeartDisease        378 non-null    int64  \n",
      " 22  AtrialFibrillation          378 non-null    int64  \n",
      " 23  HeartFailure                378 non-null    int64  \n",
      " 24  Ictus                       378 non-null    int64  \n",
      " 25  HighBloodPressure           378 non-null    int64  \n",
      " 26  Diabetes                    378 non-null    int64  \n",
      " 27  Dementia                    378 non-null    int64  \n",
      " 28  BPCO                        378 non-null    int64  \n",
      " 29  Cancer                      378 non-null    int64  \n",
      " 30  Chronic Kidney disease      378 non-null    int64  \n",
      " 31  RespiratoryFailure          378 non-null    int64  \n",
      " 32  Position                    378 non-null    int64  \n",
      " 33  Prognosis                   378 non-null    object \n",
      " 34  Death                       378 non-null    int64  \n",
      "dtypes: float64(7), int64(27), object(1)\n",
      "memory usage: 103.5+ KB\n",
      "None\n"
     ]
    }
   ],
   "source": [
    "print(df_credit1.info())"
   ]
  },
  {
   "cell_type": "code",
   "execution_count": 103,
   "metadata": {},
   "outputs": [
    {
     "name": "stdout",
     "output_type": "stream",
     "text": [
      "Age                            65\n",
      "Sex                             2\n",
      "Positivity at admission         2\n",
      "Temp_C                         41\n",
      "DaysFever                       4\n",
      "Cough                           2\n",
      "DifficultyInBreathing           2\n",
      "Therapy_anti-inflammatory       2\n",
      "Therapy_Tocilizumab             2\n",
      "Therapy_Anakinra                1\n",
      "Therapy_hydroxychloroquine      2\n",
      "Therapy_antiviral               2\n",
      "Therapy_Eparine                 4\n",
      "WBC                           287\n",
      "RBC                           182\n",
      "CRP                           349\n",
      "Glucose                       118\n",
      "PaO2                          212\n",
      "PaCO2                         134\n",
      "pH                             42\n",
      "CardiovascularDisease           2\n",
      "IschemicHeartDisease            2\n",
      "AtrialFibrillation              2\n",
      "HeartFailure                    2\n",
      "Ictus                           2\n",
      "HighBloodPressure               2\n",
      "Diabetes                        2\n",
      "Dementia                        2\n",
      "BPCO                            2\n",
      "Cancer                          2\n",
      "Chronic Kidney disease          2\n",
      "RespiratoryFailure              2\n",
      "Position                        2\n",
      "Prognosis                       2\n",
      "Death                           2\n",
      "dtype: int64\n",
      "   Age  Sex  Positivity at admission  Temp_C  DaysFever  Cough  \\\n",
      "0   58    0                        0    36.6          1      0   \n",
      "1   61    0                        1    38.2          4      0   \n",
      "2   59    1                        1    37.5          3      1   \n",
      "3   69    0                        1    37.0          3      0   \n",
      "4   28    0                        1    37.6          4      1   \n",
      "\n",
      "   DifficultyInBreathing  Therapy_anti-inflammatory   Therapy_Tocilizumab  \\\n",
      "0                      0                           1                    0   \n",
      "1                      0                           1                    0   \n",
      "2                      0                           1                    0   \n",
      "3                      0                           1                    0   \n",
      "4                      0                           1                    0   \n",
      "\n",
      "   Therapy_Anakinra  ...  HighBloodPressure  Diabetes  Dementia  BPCO  Cancer  \\\n",
      "0                 0  ...                  0         0         0     0       0   \n",
      "1                 0  ...                  0         0         0     0       0   \n",
      "2                 0  ...                  0         0         0     0       0   \n",
      "3                 0  ...                  0         0         0     0       0   \n",
      "4                 0  ...                  0         0         0     0       0   \n",
      "\n",
      "   Chronic Kidney disease  RespiratoryFailure  Position  Prognosis  Death  \n",
      "0                       0                   0         0       MILD      0  \n",
      "1                       0                   0         0       MILD      0  \n",
      "2                       0                   0         0       MILD      0  \n",
      "3                       0                   0         0       MILD      0  \n",
      "4                       0                   0         0       MILD      0  \n",
      "\n",
      "[5 rows x 35 columns]\n"
     ]
    }
   ],
   "source": [
    "#Looking unique values\n",
    "print(df_credit1.nunique())\n",
    "#Looking the data\n",
    "print(df_credit1.head())"
   ]
  },
  {
   "cell_type": "code",
   "execution_count": 104,
   "metadata": {},
   "outputs": [
    {
     "data": {
      "text/plain": [
       "378"
      ]
     },
     "execution_count": 104,
     "metadata": {},
     "output_type": "execute_result"
    }
   ],
   "source": [
    "df_credit1['Prognosis'].count()"
   ]
  },
  {
   "cell_type": "code",
   "execution_count": 105,
   "metadata": {},
   "outputs": [
    {
     "data": {
      "text/plain": [
       "SEVERE    204\n",
       "MILD      174\n",
       "Name: Prognosis, dtype: int64"
      ]
     },
     "execution_count": 105,
     "metadata": {},
     "output_type": "execute_result"
    }
   ],
   "source": [
    "df_credit1['Prognosis'].value_counts()"
   ]
  },
  {
   "cell_type": "markdown",
   "metadata": {},
   "source": [
    "# Handling categorical data"
   ]
  },
  {
   "cell_type": "code",
   "execution_count": 106,
   "metadata": {},
   "outputs": [],
   "source": [
    "# Map risk column good to 0 and bad to 1\n",
    "df_credit1['Prognosis'] = df_credit1['Prognosis'].map({'SEVERE':1, 'MILD':0})"
   ]
  },
  {
   "cell_type": "code",
   "execution_count": 107,
   "metadata": {},
   "outputs": [],
   "source": [
    "Prognosis=df_credit1['Prognosis']"
   ]
  },
  {
   "cell_type": "code",
   "execution_count": 108,
   "metadata": {},
   "outputs": [],
   "source": []
  },
  {
   "cell_type": "markdown",
   "metadata": {},
   "source": [
    "# Split data into training and testing "
   ]
  },
  {
   "cell_type": "code",
   "execution_count": 109,
   "metadata": {},
   "outputs": [],
   "source": [
    "# Spliting data into train and test version\n",
    "X_train, X_test, y_train, y_test = train_test_split(df_credit1, Prognosis, test_size = 0.30, random_state=42)"
   ]
  },
  {
   "cell_type": "markdown",
   "metadata": {
    "tags": []
   },
   "source": [
    "# Model Building"
   ]
  },
  {
   "cell_type": "markdown",
   "metadata": {},
   "source": [
    "# KNN"
   ]
  },
  {
   "cell_type": "code",
   "execution_count": 110,
   "metadata": {},
   "outputs": [
    {
     "data": {
      "text/plain": [
       "KNeighborsClassifier(n_neighbors=17)"
      ]
     },
     "execution_count": 110,
     "metadata": {},
     "output_type": "execute_result"
    }
   ],
   "source": [
    "from sklearn.neighbors import KNeighborsClassifier\n",
    "classifier = KNeighborsClassifier(n_neighbors=17)\n",
    "classifier.fit(X_train, y_train)"
   ]
  },
  {
   "cell_type": "code",
   "execution_count": 111,
   "metadata": {},
   "outputs": [
    {
     "name": "stdout",
     "output_type": "stream",
     "text": [
      "\n",
      "Accuracy of K-nearest Neighbor classifier on test set: 0.61\n"
     ]
    }
   ],
   "source": [
    "from sklearn.metrics import accuracy_score, confusion_matrix, classification_report, fbeta_score #To evaluate our model\n",
    "y_pred = classifier.predict(X_test)\n",
    "print('\\nAccuracy of K-nearest Neighbor classifier on test set: {:.2f}'.format(accuracy_score(y_pred,y_test)))"
   ]
  },
  {
   "cell_type": "code",
   "execution_count": 112,
   "metadata": {},
   "outputs": [
    {
     "name": "stdout",
     "output_type": "stream",
     "text": [
      "Confusion Matrix: \n",
      " [[30 30]\n",
      " [15 39]]\n"
     ]
    },
    {
     "data": {
      "text/html": [
       "<div>\n",
       "<style scoped>\n",
       "    .dataframe tbody tr th:only-of-type {\n",
       "        vertical-align: middle;\n",
       "    }\n",
       "\n",
       "    .dataframe tbody tr th {\n",
       "        vertical-align: top;\n",
       "    }\n",
       "\n",
       "    .dataframe thead th {\n",
       "        text-align: right;\n",
       "    }\n",
       "</style>\n",
       "<table border=\"1\" class=\"dataframe\">\n",
       "  <thead>\n",
       "    <tr style=\"text-align: right;\">\n",
       "      <th></th>\n",
       "      <th>Mild</th>\n",
       "      <th>Severe</th>\n",
       "    </tr>\n",
       "  </thead>\n",
       "  <tbody>\n",
       "    <tr>\n",
       "      <th>Mild</th>\n",
       "      <td>30</td>\n",
       "      <td>30</td>\n",
       "    </tr>\n",
       "    <tr>\n",
       "      <th>Severe</th>\n",
       "      <td>15</td>\n",
       "      <td>39</td>\n",
       "    </tr>\n",
       "  </tbody>\n",
       "</table>\n",
       "</div>"
      ],
      "text/plain": [
       "        Mild  Severe\n",
       "Mild      30      30\n",
       "Severe    15      39"
      ]
     },
     "execution_count": 112,
     "metadata": {},
     "output_type": "execute_result"
    }
   ],
   "source": [
    "confusion_matrix_knn = confusion_matrix(y_test,y_pred)\n",
    "print(\"Confusion Matrix: \\n\",confusion_matrix_knn)\n",
    "#sns.heatmap(confusion_matrix_knn, annot=True)\n",
    "confusion_matrix_knn = pd.DataFrame(confusion_matrix_knn, index=['Mild','Severe'], columns=['Mild','Severe'])\n",
    "confusion_matrix_knn.head()"
   ]
  },
  {
   "cell_type": "code",
   "execution_count": 113,
   "metadata": {},
   "outputs": [
    {
     "data": {
      "image/png": "[encoded data removed]",
      "text/plain": [
       "<Figure size 432x288 with 2 Axes>"
      ]
     },
     "metadata": {},
     "output_type": "display_data"
    }
   ],
   "source": [
    "sns.set(font_scale=1.5, color_codes=True, palette='deep')\n",
    "sns.heatmap(confusion_matrix_knn/np.sum(confusion_matrix_knn), annot=True, \n",
    "            fmt='.2%', cmap='Pastel1_r')\n",
    "plt.ylabel(\"True Label\")\n",
    "plt.xlabel(\"Predicted Label\")\n",
    "plt.title('Confusion Matrix Testing Data')\n",
    "plt.show()"
   ]
  },
  {
   "cell_type": "code",
   "execution_count": null,
   "metadata": {},
   "outputs": [],
   "source": []
  },
  {
   "cell_type": "markdown",
   "metadata": {},
   "source": [
    "# Logistic Regression Model Fitting"
   ]
  },
  {
   "cell_type": "code",
   "execution_count": 115,
   "metadata": {},
   "outputs": [
    {
     "data": {
      "text/plain": [
       "LogisticRegression()"
      ]
     },
     "execution_count": 115,
     "metadata": {},
     "output_type": "execute_result"
    }
   ],
   "source": [
    "from sklearn.linear_model import LogisticRegression\n",
    "logreg = LogisticRegression()\n",
    "logreg.fit(X_train, y_train)"
   ]
  },
  {
   "cell_type": "markdown",
   "metadata": {},
   "source": [
    "Predicting the test dataset results and calculating the accuracy"
   ]
  },
  {
   "cell_type": "code",
   "execution_count": 116,
   "metadata": {},
   "outputs": [
    {
     "name": "stdout",
     "output_type": "stream",
     "text": [
      "\n",
      "Accuracy of logistic regression classifier on test set: 0.99\n",
      "\n",
      "Accuracy of logistic regression classifier on test set: 0.99\n",
      "[1 1 1 0 0 0 1 0 1 0 1 1 0 0 1 1 1 0 1 0 0 0 0 0 0 1 0 1 0 0 1 0 1 0 0 0 0\n",
      " 1 0 0 1 0 0 0 1 0 0 0 1 0 0 1 1 1 0 0 0 1 0 0 1 1 1 1 1 0 1 0 1 1 0 1 1 1\n",
      " 0 1 0 0 1 1 1 1 1 0 1 0 0 0 1 0 0 0 1 1 0 0 1 1 0 1 1 1 1 1 0 0 0 0 1 0 1\n",
      " 1 0 1]\n"
     ]
    }
   ],
   "source": [
    "pred_y = logreg.predict(X_test)\n",
    "probabilities=logreg.predict_proba(X_test)\n",
    "print('\\nAccuracy of logistic regression classifier on test set: {:.2f}'.format(logreg.score(X_test, y_test)))\n",
    "print('\\nAccuracy of logistic regression classifier on test set: {:.2f}'.format(accuracy_score(pred_y,y_test)))\n",
    "print(pred_y)\n",
    "pred_y=np.where(pred_y > 0.5,1,0)"
   ]
  },
  {
   "cell_type": "markdown",
   "metadata": {},
   "source": [
    "# Confusion Matrix"
   ]
  },
  {
   "cell_type": "code",
   "execution_count": 117,
   "metadata": {},
   "outputs": [
    {
     "name": "stdout",
     "output_type": "stream",
     "text": [
      "Confusion Matrix: \n",
      " [[59  1]\n",
      " [ 0 54]]\n"
     ]
    },
    {
     "data": {
      "text/html": [
       "<div>\n",
       "<style scoped>\n",
       "    .dataframe tbody tr th:only-of-type {\n",
       "        vertical-align: middle;\n",
       "    }\n",
       "\n",
       "    .dataframe tbody tr th {\n",
       "        vertical-align: top;\n",
       "    }\n",
       "\n",
       "    .dataframe thead th {\n",
       "        text-align: right;\n",
       "    }\n",
       "</style>\n",
       "<table border=\"1\" class=\"dataframe\">\n",
       "  <thead>\n",
       "    <tr style=\"text-align: right;\">\n",
       "      <th></th>\n",
       "      <th>Mild</th>\n",
       "      <th>Severe</th>\n",
       "    </tr>\n",
       "  </thead>\n",
       "  <tbody>\n",
       "    <tr>\n",
       "      <th>Mild</th>\n",
       "      <td>59</td>\n",
       "      <td>1</td>\n",
       "    </tr>\n",
       "    <tr>\n",
       "      <th>Severe</th>\n",
       "      <td>0</td>\n",
       "      <td>54</td>\n",
       "    </tr>\n",
       "  </tbody>\n",
       "</table>\n",
       "</div>"
      ],
      "text/plain": [
       "        Mild  Severe\n",
       "Mild      59       1\n",
       "Severe     0      54"
      ]
     },
     "execution_count": 117,
     "metadata": {},
     "output_type": "execute_result"
    }
   ],
   "source": [
    "confusion_matrix_logreg = confusion_matrix(y_test,pred_y)\n",
    "print(\"Confusion Matrix: \\n\",confusion_matrix_logreg)\n",
    "confusion_matrix_logreg = pd.DataFrame(confusion_matrix_logreg, index=['Mild','Severe'], columns=['Mild','Severe'])\n",
    "confusion_matrix_logreg.head()"
   ]
  },
  {
   "cell_type": "code",
   "execution_count": 118,
   "metadata": {},
   "outputs": [
    {
     "data": {
      "image/png": "[encoded data removed]",
      "text/plain": [
       "<Figure size 432x288 with 2 Axes>"
      ]
     },
     "metadata": {},
     "output_type": "display_data"
    }
   ],
   "source": [
    "sns.set(font_scale=1.5, color_codes=True, palette='deep')\n",
    "sns.heatmap(confusion_matrix_logreg/np.sum(confusion_matrix_logreg), annot=True, \n",
    "            fmt='.2%', cmap='Pastel1_r')\n",
    "plt.ylabel(\"True Label\")\n",
    "plt.xlabel(\"Predicted Label\")\n",
    "plt.title('Confusion Matrix Testing Data')\n",
    "plt.show()"
   ]
  },
  {
   "cell_type": "code",
   "execution_count": 119,
   "metadata": {},
   "outputs": [
    {
     "name": "stdout",
     "output_type": "stream",
     "text": [
      "              precision    recall  f1-score   support\n",
      "\n",
      "           0       1.00      0.98      0.99        60\n",
      "           1       0.98      1.00      0.99        54\n",
      "\n",
      "    accuracy                           0.99       114\n",
      "   macro avg       0.99      0.99      0.99       114\n",
      "weighted avg       0.99      0.99      0.99       114\n",
      "\n"
     ]
    }
   ],
   "source": [
    "from sklearn.metrics import classification_report\n",
    "print(classification_report(y_test, pred_y))"
   ]
  },
  {
   "cell_type": "code",
   "execution_count": 120,
   "metadata": {},
   "outputs": [
    {
     "name": "stdout",
     "output_type": "stream",
     "text": [
      "Prognosis  MILD  SEVERE\n",
      "Diabetes               \n",
      "0            11      35\n"
     ]
    },
    {
     "data": {
      "image/png": "[encoded data removed]",
      "text/plain": [
       "<Figure size 864x864 with 1 Axes>"
      ]
     },
     "metadata": {},
     "output_type": "display_data"
    },
    {
     "name": "stdout",
     "output_type": "stream",
     "text": [
      "Prognosis     MILD   SEVERE\n",
      "Diabetes                   \n",
      "0          0.23913  0.76087\n",
      "Diabetes\n",
      "0    46.0\n",
      "dtype: float64\n"
     ]
    }
   ],
   "source": [
    "#Let's look the Credit Amount column\n",
    "interval = (0,25,40)\n",
    "Diabetes = ['0', '1']\n",
    "df_credit1[\"Diabetes\"] = pd.cut(df_credit1.Diabetes,interval,labels=Diabetes)\n",
    "print(pd.crosstab(df_credit1[\"Diabetes\"],df_credit2['Prognosis']))\n",
    "Income_bin = pd.crosstab(df_credit1[\"Diabetes\"],df_credit2['Prognosis'])\n",
    "Income_bin.div(Income_bin.sum(1).astype(float),axis=0).plot(kind=\"bar\",stacked=True,figsize=(12,12))\n",
    "plt.xlabel(\"Diabetes\")\n",
    "plt.ylabel(\"Percentage\")\n",
    "plt.savefig('Diabetes_vs_Prognosis.jpg')\n",
    "plt.show()\n",
    "print(Income_bin.div(Income_bin.sum(1).astype(float),axis=0))\n",
    "print(Income_bin.sum(1).astype(float))"
   ]
  },
  {
   "cell_type": "code",
   "execution_count": null,
   "metadata": {},
   "outputs": [],
   "source": []
  },
  {
   "cell_type": "code",
   "execution_count": 493,
   "metadata": {},
   "outputs": [
    {
     "name": "stdout",
     "output_type": "stream",
     "text": [
      "Prognosis          MILD  SEVERE\n",
      "HighBloodPressure              \n",
      "0                    69      93\n"
     ]
    },
    {
     "data": {
      "image/png": "[encoded data removed]",
      "text/plain": [
       "<Figure size 864x864 with 1 Axes>"
      ]
     },
     "metadata": {},
     "output_type": "display_data"
    },
    {
     "name": "stdout",
     "output_type": "stream",
     "text": [
      "Prognosis              MILD    SEVERE\n",
      "HighBloodPressure                    \n",
      "0                  0.425926  0.574074\n"
     ]
    }
   ],
   "source": [
    "#Let's look the Credit Amount column\n",
    "interval = (0,25, 40)\n",
    "\n",
    "High_Blood_Pressure = ['0', '1']\n",
    "df_credit1[\"HighBloodPressure\"] = pd.cut(df_credit1.HighBloodPressure, interval, labels=High_Blood_Pressure)\n",
    "\n",
    "print(pd.crosstab(df_credit1[\"HighBloodPressure\"],df_credit2['Prognosis']))\n",
    "Income_bin = pd.crosstab(df_credit1[\"HighBloodPressure\"],df_credit2['Prognosis'])\n",
    "Income_bin.div(Income_bin.sum(1).astype(float),axis=0).plot(kind=\"bar\",stacked=True,figsize=(12,12))\n",
    "plt.xlabel(\"High_Blood_Pressure\")\n",
    "plt.ylabel(\"Percentage\")\n",
    "plt.savefig('High_Blood_Pressure_vs_Prognosis.jpg')\n",
    "plt.show()\n",
    "print(Income_bin.div(Income_bin.sum(1).astype(float),axis=0))"
   ]
  },
  {
   "cell_type": "code",
   "execution_count": 512,
   "metadata": {},
   "outputs": [
    {
     "name": "stdout",
     "output_type": "stream",
     "text": [
      "Prognosis              MILD  SEVERE\n",
      "CardiovascularDisease              \n",
      "0                        41      74\n"
     ]
    },
    {
     "data": {
      "image/png": "[encoded data removed]",
      "text/plain": [
       "<Figure size 864x864 with 1 Axes>"
      ]
     },
     "metadata": {},
     "output_type": "display_data"
    },
    {
     "name": "stdout",
     "output_type": "stream",
     "text": [
      "Prognosis                  MILD    SEVERE\n",
      "CardiovascularDisease                    \n",
      "0                      0.356522  0.643478\n"
     ]
    }
   ],
   "source": [
    "#Let's look the Credit Amount column\n",
    "interval = (0,25,40)\n",
    "CardiovascularDisease = ['0', '1']\n",
    "df_credit1[\"CardiovascularDisease\"] = pd.cut(df_credit1.CardiovascularDisease, interval, labels=CardiovascularDisease)\n",
    "print(pd.crosstab(df_credit1[\"CardiovascularDisease\"],df_credit2['Prognosis']))\n",
    "Income_bin = pd.crosstab(df_credit1[\"CardiovascularDisease\"],df_credit2['Prognosis'])\n",
    "Income_bin.div(Income_bin.sum(1).astype(float),axis=0).plot(kind=\"bar\",stacked=True,figsize=(12,12))\n",
    "plt.xlabel(\"Cardiovascular_Disease\")\n",
    "plt.ylabel(\"Percentage\")\n",
    "plt.savefig('Cardiovascular_Disease_vs_Prognosis.jpg')\n",
    "plt.show()\n",
    "print(Income_bin.div(Income_bin.sum(1).astype(float),axis=0))"
   ]
  },
  {
   "cell_type": "code",
   "execution_count": null,
   "metadata": {},
   "outputs": [],
   "source": []
  },
  {
   "cell_type": "code",
   "execution_count": 250,
   "metadata": {},
   "outputs": [
    {
     "data": {
      "text/plain": [
       "['0', '1']"
      ]
     },
     "execution_count": 250,
     "metadata": {},
     "output_type": "execute_result"
    }
   ],
   "source": [
    "CardiovascularDisease"
   ]
  },
  {
   "cell_type": "code",
   "execution_count": 96,
   "metadata": {},
   "outputs": [],
   "source": [
    "#import seaborn as sns\n",
    "#sns.barplot(x='Prognosis',y='Age',data=df_credit2,palette='plasma')"
   ]
  },
  {
   "cell_type": "code",
   "execution_count": null,
   "metadata": {},
   "outputs": [],
   "source": []
  }
 ],
 "metadata": {
  "kernelspec": {
   "display_name": "Python 3",
   "language": "python",
   "name": "python3"
  },
  "language_info": {
   "codemirror_mode": {
    "name": "ipython",
    "version": 3
   },
   "file_extension": ".py",
   "mimetype": "text/x-python",
   "name": "python",
   "nbconvert_exporter": "python",
   "pygments_lexer": "ipython3",
   "version": "3.8.8"
  }
 },
 "nbformat": 4,
 "nbformat_minor": 4
}
