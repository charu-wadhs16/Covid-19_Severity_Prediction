{
 "cells": [
  {
   "cell_type": "markdown",
   "metadata": {},
   "source": [
    "# Import all important libraries"
   ]
  },
  {
   "cell_type": "code",
   "execution_count": null,
   "metadata": {},
   "outputs": [],
   "source": [
    "import cv2\n",
    "import os\n",
    "import matplotlib.pyplot as plt\n",
    "import numpy as np\n",
    "import pandas as pd\n",
    "import gdcm\n",
    "import pydicom as dicom\n",
    "from PIL import Image\n",
    "import matplotlib.pyplot as plt\n",
    "from sklearn.model_selection import train_test_split\n",
    "import seaborn as sns\n",
    "from sklearn.metrics import confusion_matrix, classification_report"
   ]
  },
  {
   "cell_type": "markdown",
   "metadata": {},
   "source": [
    "# Prediction using Clinical Info"
   ]
  },
  {
   "cell_type": "code",
   "execution_count": 44,
   "metadata": {},
   "outputs": [
    {
     "data": {
      "text/html": [
       "<div>\n",
       "<style scoped>\n",
       "    .dataframe tbody tr th:only-of-type {\n",
       "        vertical-align: middle;\n",
       "    }\n",
       "\n",
       "    .dataframe tbody tr th {\n",
       "        vertical-align: top;\n",
       "    }\n",
       "\n",
       "    .dataframe thead th {\n",
       "        text-align: right;\n",
       "    }\n",
       "</style>\n",
       "<table border=\"1\" class=\"dataframe\">\n",
       "  <thead>\n",
       "    <tr style=\"text-align: right;\">\n",
       "      <th></th>\n",
       "      <th>Row_number</th>\n",
       "      <th>ImageFile</th>\n",
       "      <th>Age</th>\n",
       "      <th>Sex</th>\n",
       "      <th>Positivity at admission</th>\n",
       "      <th>Temp_C</th>\n",
       "      <th>DaysFever</th>\n",
       "      <th>Cough</th>\n",
       "      <th>DifficultyInBreathing</th>\n",
       "      <th>Therapy_anti-inflammatory</th>\n",
       "      <th>...</th>\n",
       "      <th>HighBloodPressure</th>\n",
       "      <th>Diabetes</th>\n",
       "      <th>Dementia</th>\n",
       "      <th>BPCO</th>\n",
       "      <th>Cancer</th>\n",
       "      <th>Chronic Kidney disease</th>\n",
       "      <th>RespiratoryFailure</th>\n",
       "      <th>Position</th>\n",
       "      <th>Prognosis</th>\n",
       "      <th>Death</th>\n",
       "    </tr>\n",
       "  </thead>\n",
       "  <tbody>\n",
       "    <tr>\n",
       "      <th>0</th>\n",
       "      <td>339</td>\n",
       "      <td>P_342.dcm</td>\n",
       "      <td>58</td>\n",
       "      <td>0</td>\n",
       "      <td>0</td>\n",
       "      <td>36.6</td>\n",
       "      <td>1</td>\n",
       "      <td>0</td>\n",
       "      <td>0</td>\n",
       "      <td>1</td>\n",
       "      <td>...</td>\n",
       "      <td>0</td>\n",
       "      <td>0</td>\n",
       "      <td>0</td>\n",
       "      <td>0</td>\n",
       "      <td>0</td>\n",
       "      <td>0</td>\n",
       "      <td>0</td>\n",
       "      <td>0</td>\n",
       "      <td>MILD</td>\n",
       "      <td>0</td>\n",
       "    </tr>\n",
       "    <tr>\n",
       "      <th>1</th>\n",
       "      <td>323</td>\n",
       "      <td>P_324.dcm</td>\n",
       "      <td>61</td>\n",
       "      <td>0</td>\n",
       "      <td>1</td>\n",
       "      <td>38.2</td>\n",
       "      <td>4</td>\n",
       "      <td>0</td>\n",
       "      <td>0</td>\n",
       "      <td>1</td>\n",
       "      <td>...</td>\n",
       "      <td>0</td>\n",
       "      <td>0</td>\n",
       "      <td>0</td>\n",
       "      <td>0</td>\n",
       "      <td>0</td>\n",
       "      <td>0</td>\n",
       "      <td>0</td>\n",
       "      <td>0</td>\n",
       "      <td>MILD</td>\n",
       "      <td>0</td>\n",
       "    </tr>\n",
       "    <tr>\n",
       "      <th>2</th>\n",
       "      <td>314</td>\n",
       "      <td>P_314.dcm</td>\n",
       "      <td>59</td>\n",
       "      <td>1</td>\n",
       "      <td>1</td>\n",
       "      <td>37.5</td>\n",
       "      <td>3</td>\n",
       "      <td>1</td>\n",
       "      <td>0</td>\n",
       "      <td>1</td>\n",
       "      <td>...</td>\n",
       "      <td>0</td>\n",
       "      <td>0</td>\n",
       "      <td>0</td>\n",
       "      <td>0</td>\n",
       "      <td>0</td>\n",
       "      <td>0</td>\n",
       "      <td>0</td>\n",
       "      <td>0</td>\n",
       "      <td>MILD</td>\n",
       "      <td>0</td>\n",
       "    </tr>\n",
       "    <tr>\n",
       "      <th>3</th>\n",
       "      <td>317</td>\n",
       "      <td>P_317.dcm</td>\n",
       "      <td>69</td>\n",
       "      <td>0</td>\n",
       "      <td>1</td>\n",
       "      <td>37.0</td>\n",
       "      <td>3</td>\n",
       "      <td>0</td>\n",
       "      <td>0</td>\n",
       "      <td>1</td>\n",
       "      <td>...</td>\n",
       "      <td>0</td>\n",
       "      <td>0</td>\n",
       "      <td>0</td>\n",
       "      <td>0</td>\n",
       "      <td>0</td>\n",
       "      <td>0</td>\n",
       "      <td>0</td>\n",
       "      <td>0</td>\n",
       "      <td>MILD</td>\n",
       "      <td>0</td>\n",
       "    </tr>\n",
       "    <tr>\n",
       "      <th>4</th>\n",
       "      <td>349</td>\n",
       "      <td>P_358.dcm</td>\n",
       "      <td>28</td>\n",
       "      <td>0</td>\n",
       "      <td>1</td>\n",
       "      <td>37.6</td>\n",
       "      <td>4</td>\n",
       "      <td>1</td>\n",
       "      <td>0</td>\n",
       "      <td>1</td>\n",
       "      <td>...</td>\n",
       "      <td>0</td>\n",
       "      <td>0</td>\n",
       "      <td>0</td>\n",
       "      <td>0</td>\n",
       "      <td>0</td>\n",
       "      <td>0</td>\n",
       "      <td>0</td>\n",
       "      <td>0</td>\n",
       "      <td>MILD</td>\n",
       "      <td>0</td>\n",
       "    </tr>\n",
       "  </tbody>\n",
       "</table>\n",
       "<p>5 rows × 37 columns</p>\n",
       "</div>"
      ],
      "text/plain": [
       "   Row_number  ImageFile  Age  Sex  Positivity at admission  Temp_C  \\\n",
       "0         339  P_342.dcm   58    0                        0    36.6   \n",
       "1         323  P_324.dcm   61    0                        1    38.2   \n",
       "2         314  P_314.dcm   59    1                        1    37.5   \n",
       "3         317  P_317.dcm   69    0                        1    37.0   \n",
       "4         349  P_358.dcm   28    0                        1    37.6   \n",
       "\n",
       "   DaysFever  Cough  DifficultyInBreathing  Therapy_anti-inflammatory   ...  \\\n",
       "0          1      0                      0                           1  ...   \n",
       "1          4      0                      0                           1  ...   \n",
       "2          3      1                      0                           1  ...   \n",
       "3          3      0                      0                           1  ...   \n",
       "4          4      1                      0                           1  ...   \n",
       "\n",
       "   HighBloodPressure  Diabetes  Dementia  BPCO  Cancer  \\\n",
       "0                  0         0         0     0       0   \n",
       "1                  0         0         0     0       0   \n",
       "2                  0         0         0     0       0   \n",
       "3                  0         0         0     0       0   \n",
       "4                  0         0         0     0       0   \n",
       "\n",
       "   Chronic Kidney disease  RespiratoryFailure  Position  Prognosis  Death  \n",
       "0                       0                   0         0       MILD      0  \n",
       "1                       0                   0         0       MILD      0  \n",
       "2                       0                   0         0       MILD      0  \n",
       "3                       0                   0         0       MILD      0  \n",
       "4                       0                   0         0       MILD      0  \n",
       "\n",
       "[5 rows x 37 columns]"
      ]
     },
     "execution_count": 44,
     "metadata": {},
     "output_type": "execute_result"
    }
   ],
   "source": [
    "#Importing the data\n",
    "df_credit2 = pd.read_csv(\"C:/Users/hp/es_dump_data.csv\")\n",
    "df_credit1 = pd.read_csv(\"C:/Users/hp/es_dump_data.csv\")\n",
    "df_credit1.head()"
   ]
  },
  {
   "cell_type": "code",
   "execution_count": 45,
   "metadata": {},
   "outputs": [
    {
     "data": {
      "text/html": [
       "<div>\n",
       "<style scoped>\n",
       "    .dataframe tbody tr th:only-of-type {\n",
       "        vertical-align: middle;\n",
       "    }\n",
       "\n",
       "    .dataframe tbody tr th {\n",
       "        vertical-align: top;\n",
       "    }\n",
       "\n",
       "    .dataframe thead th {\n",
       "        text-align: right;\n",
       "    }\n",
       "</style>\n",
       "<table border=\"1\" class=\"dataframe\">\n",
       "  <thead>\n",
       "    <tr style=\"text-align: right;\">\n",
       "      <th></th>\n",
       "      <th>Age</th>\n",
       "      <th>Sex</th>\n",
       "      <th>Positivity at admission</th>\n",
       "      <th>Temp_C</th>\n",
       "      <th>DaysFever</th>\n",
       "      <th>Cough</th>\n",
       "      <th>DifficultyInBreathing</th>\n",
       "      <th>Therapy_anti-inflammatory</th>\n",
       "      <th>Therapy_Tocilizumab</th>\n",
       "      <th>Therapy_Anakinra</th>\n",
       "      <th>...</th>\n",
       "      <th>HighBloodPressure</th>\n",
       "      <th>Diabetes</th>\n",
       "      <th>Dementia</th>\n",
       "      <th>BPCO</th>\n",
       "      <th>Cancer</th>\n",
       "      <th>Chronic Kidney disease</th>\n",
       "      <th>RespiratoryFailure</th>\n",
       "      <th>Position</th>\n",
       "      <th>Prognosis</th>\n",
       "      <th>Death</th>\n",
       "    </tr>\n",
       "  </thead>\n",
       "  <tbody>\n",
       "    <tr>\n",
       "      <th>0</th>\n",
       "      <td>58</td>\n",
       "      <td>0</td>\n",
       "      <td>0</td>\n",
       "      <td>36.6</td>\n",
       "      <td>1</td>\n",
       "      <td>0</td>\n",
       "      <td>0</td>\n",
       "      <td>1</td>\n",
       "      <td>0</td>\n",
       "      <td>0</td>\n",
       "      <td>...</td>\n",
       "      <td>0</td>\n",
       "      <td>0</td>\n",
       "      <td>0</td>\n",
       "      <td>0</td>\n",
       "      <td>0</td>\n",
       "      <td>0</td>\n",
       "      <td>0</td>\n",
       "      <td>0</td>\n",
       "      <td>MILD</td>\n",
       "      <td>0</td>\n",
       "    </tr>\n",
       "    <tr>\n",
       "      <th>1</th>\n",
       "      <td>61</td>\n",
       "      <td>0</td>\n",
       "      <td>1</td>\n",
       "      <td>38.2</td>\n",
       "      <td>4</td>\n",
       "      <td>0</td>\n",
       "      <td>0</td>\n",
       "      <td>1</td>\n",
       "      <td>0</td>\n",
       "      <td>0</td>\n",
       "      <td>...</td>\n",
       "      <td>0</td>\n",
       "      <td>0</td>\n",
       "      <td>0</td>\n",
       "      <td>0</td>\n",
       "      <td>0</td>\n",
       "      <td>0</td>\n",
       "      <td>0</td>\n",
       "      <td>0</td>\n",
       "      <td>MILD</td>\n",
       "      <td>0</td>\n",
       "    </tr>\n",
       "    <tr>\n",
       "      <th>2</th>\n",
       "      <td>59</td>\n",
       "      <td>1</td>\n",
       "      <td>1</td>\n",
       "      <td>37.5</td>\n",
       "      <td>3</td>\n",
       "      <td>1</td>\n",
       "      <td>0</td>\n",
       "      <td>1</td>\n",
       "      <td>0</td>\n",
       "      <td>0</td>\n",
       "      <td>...</td>\n",
       "      <td>0</td>\n",
       "      <td>0</td>\n",
       "      <td>0</td>\n",
       "      <td>0</td>\n",
       "      <td>0</td>\n",
       "      <td>0</td>\n",
       "      <td>0</td>\n",
       "      <td>0</td>\n",
       "      <td>MILD</td>\n",
       "      <td>0</td>\n",
       "    </tr>\n",
       "    <tr>\n",
       "      <th>3</th>\n",
       "      <td>69</td>\n",
       "      <td>0</td>\n",
       "      <td>1</td>\n",
       "      <td>37.0</td>\n",
       "      <td>3</td>\n",
       "      <td>0</td>\n",
       "      <td>0</td>\n",
       "      <td>1</td>\n",
       "      <td>0</td>\n",
       "      <td>0</td>\n",
       "      <td>...</td>\n",
       "      <td>0</td>\n",
       "      <td>0</td>\n",
       "      <td>0</td>\n",
       "      <td>0</td>\n",
       "      <td>0</td>\n",
       "      <td>0</td>\n",
       "      <td>0</td>\n",
       "      <td>0</td>\n",
       "      <td>MILD</td>\n",
       "      <td>0</td>\n",
       "    </tr>\n",
       "    <tr>\n",
       "      <th>4</th>\n",
       "      <td>28</td>\n",
       "      <td>0</td>\n",
       "      <td>1</td>\n",
       "      <td>37.6</td>\n",
       "      <td>4</td>\n",
       "      <td>1</td>\n",
       "      <td>0</td>\n",
       "      <td>1</td>\n",
       "      <td>0</td>\n",
       "      <td>0</td>\n",
       "      <td>...</td>\n",
       "      <td>0</td>\n",
       "      <td>0</td>\n",
       "      <td>0</td>\n",
       "      <td>0</td>\n",
       "      <td>0</td>\n",
       "      <td>0</td>\n",
       "      <td>0</td>\n",
       "      <td>0</td>\n",
       "      <td>MILD</td>\n",
       "      <td>0</td>\n",
       "    </tr>\n",
       "  </tbody>\n",
       "</table>\n",
       "<p>5 rows × 35 columns</p>\n",
       "</div>"
      ],
      "text/plain": [
       "   Age  Sex  Positivity at admission  Temp_C  DaysFever  Cough  \\\n",
       "0   58    0                        0    36.6          1      0   \n",
       "1   61    0                        1    38.2          4      0   \n",
       "2   59    1                        1    37.5          3      1   \n",
       "3   69    0                        1    37.0          3      0   \n",
       "4   28    0                        1    37.6          4      1   \n",
       "\n",
       "   DifficultyInBreathing  Therapy_anti-inflammatory   Therapy_Tocilizumab  \\\n",
       "0                      0                           1                    0   \n",
       "1                      0                           1                    0   \n",
       "2                      0                           1                    0   \n",
       "3                      0                           1                    0   \n",
       "4                      0                           1                    0   \n",
       "\n",
       "   Therapy_Anakinra  ...  HighBloodPressure  Diabetes  Dementia  BPCO  Cancer  \\\n",
       "0                 0  ...                  0         0         0     0       0   \n",
       "1                 0  ...                  0         0         0     0       0   \n",
       "2                 0  ...                  0         0         0     0       0   \n",
       "3                 0  ...                  0         0         0     0       0   \n",
       "4                 0  ...                  0         0         0     0       0   \n",
       "\n",
       "   Chronic Kidney disease  RespiratoryFailure  Position  Prognosis  Death  \n",
       "0                       0                   0         0       MILD      0  \n",
       "1                       0                   0         0       MILD      0  \n",
       "2                       0                   0         0       MILD      0  \n",
       "3                       0                   0         0       MILD      0  \n",
       "4                       0                   0         0       MILD      0  \n",
       "\n",
       "[5 rows x 35 columns]"
      ]
     },
     "execution_count": 45,
     "metadata": {},
     "output_type": "execute_result"
    }
   ],
   "source": [
    "df_credit1=df_credit1.drop(['Row_number', 'ImageFile'],axis=1)\n",
    "df_credit1.head()"
   ]
  },
  {
   "cell_type": "code",
   "execution_count": 46,
   "metadata": {},
   "outputs": [
    {
     "name": "stdout",
     "output_type": "stream",
     "text": [
      "<class 'pandas.core.frame.DataFrame'>\n",
      "RangeIndex: 378 entries, 0 to 377\n",
      "Data columns (total 35 columns):\n",
      " #   Column                      Non-Null Count  Dtype  \n",
      "---  ------                      --------------  -----  \n",
      " 0   Age                         378 non-null    int64  \n",
      " 1   Sex                         378 non-null    int64  \n",
      " 2   Positivity at admission     378 non-null    int64  \n",
      " 3   Temp_C                      378 non-null    float64\n",
      " 4   DaysFever                   378 non-null    int64  \n",
      " 5   Cough                       378 non-null    int64  \n",
      " 6   DifficultyInBreathing       378 non-null    int64  \n",
      " 7   Therapy_anti-inflammatory   378 non-null    int64  \n",
      " 8   Therapy_Tocilizumab         378 non-null    int64  \n",
      " 9   Therapy_Anakinra            378 non-null    int64  \n",
      " 10  Therapy_hydroxychloroquine  378 non-null    int64  \n",
      " 11  Therapy_antiviral           378 non-null    int64  \n",
      " 12  Therapy_Eparine             378 non-null    int64  \n",
      " 13  WBC                         378 non-null    float64\n",
      " 14  RBC                         378 non-null    float64\n",
      " 15  CRP                         378 non-null    float64\n",
      " 16  Glucose                     378 non-null    int64  \n",
      " 17  PaO2                        378 non-null    float64\n",
      " 18  PaCO2                       378 non-null    float64\n",
      " 19  pH                          378 non-null    float64\n",
      " 20  CardiovascularDisease       378 non-null    int64  \n",
      " 21  IschemicHeartDisease        378 non-null    int64  \n",
      " 22  AtrialFibrillation          378 non-null    int64  \n",
      " 23  HeartFailure                378 non-null    int64  \n",
      " 24  Ictus                       378 non-null    int64  \n",
      " 25  HighBloodPressure           378 non-null    int64  \n",
      " 26  Diabetes                    378 non-null    int64  \n",
      " 27  Dementia                    378 non-null    int64  \n",
      " 28  BPCO                        378 non-null    int64  \n",
      " 29  Cancer                      378 non-null    int64  \n",
      " 30  Chronic Kidney disease      378 non-null    int64  \n",
      " 31  RespiratoryFailure          378 non-null    int64  \n",
      " 32  Position                    378 non-null    int64  \n",
      " 33  Prognosis                   378 non-null    object \n",
      " 34  Death                       378 non-null    int64  \n",
      "dtypes: float64(7), int64(27), object(1)\n",
      "memory usage: 103.5+ KB\n",
      "None\n"
     ]
    }
   ],
   "source": [
    "print(df_credit1.info())"
   ]
  },
  {
   "cell_type": "code",
   "execution_count": 47,
   "metadata": {},
   "outputs": [
    {
     "name": "stdout",
     "output_type": "stream",
     "text": [
      "Age                            65\n",
      "Sex                             2\n",
      "Positivity at admission         2\n",
      "Temp_C                         41\n",
      "DaysFever                       4\n",
      "Cough                           2\n",
      "DifficultyInBreathing           2\n",
      "Therapy_anti-inflammatory       2\n",
      "Therapy_Tocilizumab             2\n",
      "Therapy_Anakinra                1\n",
      "Therapy_hydroxychloroquine      2\n",
      "Therapy_antiviral               2\n",
      "Therapy_Eparine                 4\n",
      "WBC                           287\n",
      "RBC                           182\n",
      "CRP                           349\n",
      "Glucose                       118\n",
      "PaO2                          212\n",
      "PaCO2                         134\n",
      "pH                             42\n",
      "CardiovascularDisease           2\n",
      "IschemicHeartDisease            2\n",
      "AtrialFibrillation              2\n",
      "HeartFailure                    2\n",
      "Ictus                           2\n",
      "HighBloodPressure               2\n",
      "Diabetes                        2\n",
      "Dementia                        2\n",
      "BPCO                            2\n",
      "Cancer                          2\n",
      "Chronic Kidney disease          2\n",
      "RespiratoryFailure              2\n",
      "Position                        2\n",
      "Prognosis                       2\n",
      "Death                           2\n",
      "dtype: int64\n",
      "   Age  Sex  Positivity at admission  Temp_C  DaysFever  Cough  \\\n",
      "0   58    0                        0    36.6          1      0   \n",
      "1   61    0                        1    38.2          4      0   \n",
      "2   59    1                        1    37.5          3      1   \n",
      "3   69    0                        1    37.0          3      0   \n",
      "4   28    0                        1    37.6          4      1   \n",
      "\n",
      "   DifficultyInBreathing  Therapy_anti-inflammatory   Therapy_Tocilizumab  \\\n",
      "0                      0                           1                    0   \n",
      "1                      0                           1                    0   \n",
      "2                      0                           1                    0   \n",
      "3                      0                           1                    0   \n",
      "4                      0                           1                    0   \n",
      "\n",
      "   Therapy_Anakinra  ...  HighBloodPressure  Diabetes  Dementia  BPCO  Cancer  \\\n",
      "0                 0  ...                  0         0         0     0       0   \n",
      "1                 0  ...                  0         0         0     0       0   \n",
      "2                 0  ...                  0         0         0     0       0   \n",
      "3                 0  ...                  0         0         0     0       0   \n",
      "4                 0  ...                  0         0         0     0       0   \n",
      "\n",
      "   Chronic Kidney disease  RespiratoryFailure  Position  Prognosis  Death  \n",
      "0                       0                   0         0       MILD      0  \n",
      "1                       0                   0         0       MILD      0  \n",
      "2                       0                   0         0       MILD      0  \n",
      "3                       0                   0         0       MILD      0  \n",
      "4                       0                   0         0       MILD      0  \n",
      "\n",
      "[5 rows x 35 columns]\n"
     ]
    }
   ],
   "source": [
    "#Looking unique values\n",
    "print(df_credit1.nunique())\n",
    "#Looking the data\n",
    "print(df_credit1.head())"
   ]
  },
  {
   "cell_type": "code",
   "execution_count": 48,
   "metadata": {},
   "outputs": [
    {
     "data": {
      "text/plain": [
       "378"
      ]
     },
     "execution_count": 48,
     "metadata": {},
     "output_type": "execute_result"
    }
   ],
   "source": [
    "df_credit1['Prognosis'].count()"
   ]
  },
  {
   "cell_type": "code",
   "execution_count": 49,
   "metadata": {},
   "outputs": [
    {
     "data": {
      "text/plain": [
       "SEVERE    204\n",
       "MILD      174\n",
       "Name: Prognosis, dtype: int64"
      ]
     },
     "execution_count": 49,
     "metadata": {},
     "output_type": "execute_result"
    }
   ],
   "source": [
    "df_credit1['Prognosis'].value_counts()"
   ]
  },
  {
   "cell_type": "markdown",
   "metadata": {},
   "source": [
    "# Handling categorical data"
   ]
  },
  {
   "cell_type": "code",
   "execution_count": 50,
   "metadata": {},
   "outputs": [],
   "source": [
    "# Map risk column good to 0 and bad to 1\n",
    "df_credit1['Prognosis'] = df_credit1['Prognosis'].map({'SEVERE':1, 'MILD':0})"
   ]
  },
  {
   "cell_type": "code",
   "execution_count": 51,
   "metadata": {},
   "outputs": [],
   "source": [
    "Prognosis=df_credit1['Prognosis']"
   ]
  },
  {
   "cell_type": "markdown",
   "metadata": {},
   "source": [
    "df_credit=df_credit1.drop(['Prognosis'],axis=1)"
   ]
  },
  {
   "cell_type": "markdown",
   "metadata": {},
   "source": [
    "# Split data into training and testing "
   ]
  },
  {
   "cell_type": "code",
   "execution_count": 53,
   "metadata": {},
   "outputs": [],
   "source": [
    "# Spliting data into train and test version\n",
    "X_train, X_test, y_train, y_test = train_test_split(df_credit1, Prognosis, test_size = 0.30, random_state=42)"
   ]
  },
  {
   "cell_type": "markdown",
   "metadata": {
    "jp-MarkdownHeadingCollapsed": true,
    "tags": []
   },
   "source": [
    "# Model Building"
   ]
  },
  {
   "cell_type": "markdown",
   "metadata": {},
   "source": [
    "# SVM"
   ]
  },
  {
   "cell_type": "code",
   "execution_count": 54,
   "metadata": {},
   "outputs": [
    {
     "data": {
      "text/plain": [
       "SVC(kernel='linear')"
      ]
     },
     "execution_count": 54,
     "metadata": {},
     "output_type": "execute_result"
    }
   ],
   "source": [
    "from sklearn.svm import SVC\n",
    "classif =SVC(kernel='linear')\n",
    "classif.fit(X_train, y_train)"
   ]
  },
  {
   "cell_type": "code",
   "execution_count": 57,
   "metadata": {},
   "outputs": [
    {
     "name": "stdout",
     "output_type": "stream",
     "text": [
      "\n",
      "Accuracy of SVM on test set: 1.00\n"
     ]
    }
   ],
   "source": [
    "from sklearn.metrics import accuracy_score, confusion_matrix, classification_report, fbeta_score #To evaluate our model\n",
    "y_pred = classif.predict(X_test)\n",
    "print('\\nAccuracy of SVM on test set: {:.2f}'.format(accuracy_score(y_pred,y_test)))"
   ]
  },
  {
   "cell_type": "code",
   "execution_count": 59,
   "metadata": {},
   "outputs": [
    {
     "name": "stdout",
     "output_type": "stream",
     "text": [
      "Confusion Matrix: \n",
      "         Mild  Severe\n",
      "Mild      60       0\n",
      "Severe     0      54\n"
     ]
    },
    {
     "data": {
      "text/html": [
       "<div>\n",
       "<style scoped>\n",
       "    .dataframe tbody tr th:only-of-type {\n",
       "        vertical-align: middle;\n",
       "    }\n",
       "\n",
       "    .dataframe tbody tr th {\n",
       "        vertical-align: top;\n",
       "    }\n",
       "\n",
       "    .dataframe thead th {\n",
       "        text-align: right;\n",
       "    }\n",
       "</style>\n",
       "<table border=\"1\" class=\"dataframe\">\n",
       "  <thead>\n",
       "    <tr style=\"text-align: right;\">\n",
       "      <th></th>\n",
       "      <th>Mild</th>\n",
       "      <th>Severe</th>\n",
       "    </tr>\n",
       "  </thead>\n",
       "  <tbody>\n",
       "    <tr>\n",
       "      <th>Mild</th>\n",
       "      <td>60</td>\n",
       "      <td>0</td>\n",
       "    </tr>\n",
       "    <tr>\n",
       "      <th>Severe</th>\n",
       "      <td>0</td>\n",
       "      <td>54</td>\n",
       "    </tr>\n",
       "  </tbody>\n",
       "</table>\n",
       "</div>"
      ],
      "text/plain": [
       "        Mild  Severe\n",
       "Mild      60       0\n",
       "Severe     0      54"
      ]
     },
     "execution_count": 59,
     "metadata": {},
     "output_type": "execute_result"
    }
   ],
   "source": [
    "confusion_matrix_SVM = confusion_matrix(y_test,y_pred)\n",
    "print(\"Confusion Matrix: \\n\",confusion_matrix_knn)\n",
    "#sns.heatmap(confusion_matrix_knn, annot=True)\n",
    "confusion_matrix_SVM = pd.DataFrame(confusion_matrix_knn, index=['Mild','Severe'], columns=['Mild','Severe'])\n",
    "confusion_matrix_SVM.head()"
   ]
  },
  {
   "cell_type": "code",
   "execution_count": 60,
   "metadata": {},
   "outputs": [
    {
     "data": {
      "image/png": "[encoded data removed]",
      "text/plain": [
       "<Figure size 432x288 with 2 Axes>"
      ]
     },
     "metadata": {},
     "output_type": "display_data"
    }
   ],
   "source": [
    "sns.set(font_scale=1.5, color_codes=True, palette='deep')\n",
    "sns.heatmap(confusion_matrix_SVM/np.sum(confusion_matrix_SVM), annot=True, \n",
    "            fmt='.2%', cmap='Pastel1_r')\n",
    "plt.ylabel(\"True Label\")\n",
    "plt.xlabel(\"Predicted Label\")\n",
    "plt.title('Confusion Matrix Testing Data')\n",
    "plt.show()"
   ]
  },
  {
   "cell_type": "code",
   "execution_count": null,
   "metadata": {},
   "outputs": [],
   "source": []
  },
  {
   "cell_type": "code",
   "execution_count": null,
   "metadata": {},
   "outputs": [],
   "source": []
  },
  {
   "cell_type": "markdown",
   "metadata": {},
   "source": [
    "# KNN"
   ]
  },
  {
   "cell_type": "code",
   "execution_count": 77,
   "metadata": {},
   "outputs": [
    {
     "data": {
      "text/plain": [
       "KNeighborsClassifier(n_neighbors=17)"
      ]
     },
     "execution_count": 77,
     "metadata": {},
     "output_type": "execute_result"
    }
   ],
   "source": [
    "from sklearn.neighbors import KNeighborsClassifier\n",
    "classifier = KNeighborsClassifier(n_neighbors=17)\n",
    "classifier.fit(X_train, y_train)"
   ]
  },
  {
   "cell_type": "code",
   "execution_count": 78,
   "metadata": {},
   "outputs": [
    {
     "name": "stdout",
     "output_type": "stream",
     "text": [
      "\n",
      "Accuracy of K-nearest Neighbor classifier on test set: 0.61\n"
     ]
    }
   ],
   "source": [
    "from sklearn.metrics import accuracy_score, confusion_matrix, classification_report, fbeta_score #To evaluate our model\n",
    "y_pred = classifier.predict(X_test)\n",
    "print('\\nAccuracy of K-nearest Neighbor classifier on test set: {:.2f}'.format(accuracy_score(y_pred,y_test)))"
   ]
  },
  {
   "cell_type": "code",
   "execution_count": 79,
   "metadata": {},
   "outputs": [
    {
     "name": "stdout",
     "output_type": "stream",
     "text": [
      "Confusion Matrix: \n",
      " [[30 30]\n",
      " [15 39]]\n"
     ]
    },
    {
     "data": {
      "text/html": [
       "<div>\n",
       "<style scoped>\n",
       "    .dataframe tbody tr th:only-of-type {\n",
       "        vertical-align: middle;\n",
       "    }\n",
       "\n",
       "    .dataframe tbody tr th {\n",
       "        vertical-align: top;\n",
       "    }\n",
       "\n",
       "    .dataframe thead th {\n",
       "        text-align: right;\n",
       "    }\n",
       "</style>\n",
       "<table border=\"1\" class=\"dataframe\">\n",
       "  <thead>\n",
       "    <tr style=\"text-align: right;\">\n",
       "      <th></th>\n",
       "      <th>Mild</th>\n",
       "      <th>Severe</th>\n",
       "    </tr>\n",
       "  </thead>\n",
       "  <tbody>\n",
       "    <tr>\n",
       "      <th>Mild</th>\n",
       "      <td>30</td>\n",
       "      <td>30</td>\n",
       "    </tr>\n",
       "    <tr>\n",
       "      <th>Severe</th>\n",
       "      <td>15</td>\n",
       "      <td>39</td>\n",
       "    </tr>\n",
       "  </tbody>\n",
       "</table>\n",
       "</div>"
      ],
      "text/plain": [
       "        Mild  Severe\n",
       "Mild      30      30\n",
       "Severe    15      39"
      ]
     },
     "execution_count": 79,
     "metadata": {},
     "output_type": "execute_result"
    }
   ],
   "source": [
    "confusion_matrix_knn = confusion_matrix(y_test,y_pred)\n",
    "print(\"Confusion Matrix: \\n\",confusion_matrix_knn)\n",
    "#sns.heatmap(confusion_matrix_knn, annot=True)\n",
    "confusion_matrix_knn = pd.DataFrame(confusion_matrix_knn, index=['Mild','Severe'], columns=['Mild','Severe'])\n",
    "confusion_matrix_knn.head()"
   ]
  },
  {
   "cell_type": "code",
   "execution_count": 80,
   "metadata": {},
   "outputs": [
    {
     "data": {
      "image/png": "[encoded data removed]",
      "text/plain": [
       "<Figure size 432x288 with 2 Axes>"
      ]
     },
     "metadata": {},
     "output_type": "display_data"
    }
   ],
   "source": [
    "sns.set(font_scale=1.5, color_codes=True, palette='deep')\n",
    "sns.heatmap(confusion_matrix_knn/np.sum(confusion_matrix_knn), annot=True, \n",
    "            fmt='.2%', cmap='Pastel1_r')\n",
    "plt.ylabel(\"True Label\")\n",
    "plt.xlabel(\"Predicted Label\")\n",
    "plt.title('Confusion Matrix Testing Data')\n",
    "plt.show()"
   ]
  },
  {
   "cell_type": "markdown",
   "metadata": {},
   "source": [
    "# Logistic Regression Model Fitting"
   ]
  },
  {
   "cell_type": "code",
   "execution_count": 81,
   "metadata": {},
   "outputs": [
    {
     "data": {
      "text/plain": [
       "LogisticRegression()"
      ]
     },
     "execution_count": 81,
     "metadata": {},
     "output_type": "execute_result"
    }
   ],
   "source": [
    "from sklearn.linear_model import LogisticRegression\n",
    "import warnings\n",
    "warnings.filterwarnings(\"ignore\")\n",
    "logreg = LogisticRegression()\n",
    "logreg.fit(X_train, y_train)"
   ]
  },
  {
   "cell_type": "markdown",
   "metadata": {},
   "source": [
    "Predicting the test dataset results and calculating the accuracy"
   ]
  },
  {
   "cell_type": "code",
   "execution_count": 82,
   "metadata": {},
   "outputs": [
    {
     "name": "stdout",
     "output_type": "stream",
     "text": [
      "\n",
      "Accuracy of logistic regression classifier on test set: 0.70\n"
     ]
    }
   ],
   "source": [
    "pred_y = logreg.predict(X_test)\n",
    "probabilities=logreg.predict_proba(X_test)\n",
    "print('\\nAccuracy of logistic regression classifier on test set: {:.2f}'.format(logreg.score(X_test, y_test)))\n",
    "\n",
    "#print(pred_y)\n",
    "pred_y=np.where(pred_y > 0.5,1,0)"
   ]
  },
  {
   "cell_type": "markdown",
   "metadata": {},
   "source": [
    "# Confusion Matrix"
   ]
  },
  {
   "cell_type": "code",
   "execution_count": 83,
   "metadata": {},
   "outputs": [
    {
     "name": "stdout",
     "output_type": "stream",
     "text": [
      "Confusion Matrix: \n",
      " [[36 24]\n",
      " [10 44]]\n"
     ]
    },
    {
     "data": {
      "text/html": [
       "<div>\n",
       "<style scoped>\n",
       "    .dataframe tbody tr th:only-of-type {\n",
       "        vertical-align: middle;\n",
       "    }\n",
       "\n",
       "    .dataframe tbody tr th {\n",
       "        vertical-align: top;\n",
       "    }\n",
       "\n",
       "    .dataframe thead th {\n",
       "        text-align: right;\n",
       "    }\n",
       "</style>\n",
       "<table border=\"1\" class=\"dataframe\">\n",
       "  <thead>\n",
       "    <tr style=\"text-align: right;\">\n",
       "      <th></th>\n",
       "      <th>Mild</th>\n",
       "      <th>Severe</th>\n",
       "    </tr>\n",
       "  </thead>\n",
       "  <tbody>\n",
       "    <tr>\n",
       "      <th>Mild</th>\n",
       "      <td>36</td>\n",
       "      <td>24</td>\n",
       "    </tr>\n",
       "    <tr>\n",
       "      <th>Severe</th>\n",
       "      <td>10</td>\n",
       "      <td>44</td>\n",
       "    </tr>\n",
       "  </tbody>\n",
       "</table>\n",
       "</div>"
      ],
      "text/plain": [
       "        Mild  Severe\n",
       "Mild      36      24\n",
       "Severe    10      44"
      ]
     },
     "execution_count": 83,
     "metadata": {},
     "output_type": "execute_result"
    }
   ],
   "source": [
    "confusion_matrix_logreg = confusion_matrix(y_test,pred_y)\n",
    "print(\"Confusion Matrix: \\n\",confusion_matrix_logreg)\n",
    "confusion_matrix_logreg = pd.DataFrame(confusion_matrix_logreg, index=['Mild','Severe'], columns=['Mild','Severe'])\n",
    "confusion_matrix_logreg.head()"
   ]
  },
  {
   "cell_type": "code",
   "execution_count": 84,
   "metadata": {},
   "outputs": [
    {
     "data": {
      "image/png": "[encoded data removed]",
      "text/plain": [
       "<Figure size 432x288 with 2 Axes>"
      ]
     },
     "metadata": {},
     "output_type": "display_data"
    }
   ],
   "source": [
    "sns.set(font_scale=1.5, color_codes=True, palette='deep')\n",
    "sns.heatmap(confusion_matrix_logreg/np.sum(confusion_matrix_logreg), annot=True, \n",
    "            fmt='.2%', cmap='Pastel1_r')\n",
    "plt.ylabel(\"True Label\")\n",
    "plt.xlabel(\"Predicted Label\")\n",
    "plt.title('Confusion Matrix Testing Data')\n",
    "plt.show()"
   ]
  },
  {
   "cell_type": "code",
   "execution_count": 85,
   "metadata": {},
   "outputs": [
    {
     "name": "stdout",
     "output_type": "stream",
     "text": [
      "              precision    recall  f1-score   support\n",
      "\n",
      "           0       0.78      0.60      0.68        60\n",
      "           1       0.65      0.81      0.72        54\n",
      "\n",
      "    accuracy                           0.70       114\n",
      "   macro avg       0.71      0.71      0.70       114\n",
      "weighted avg       0.72      0.70      0.70       114\n",
      "\n"
     ]
    }
   ],
   "source": [
    "from sklearn.metrics import classification_report\n",
    "print(classification_report(y_test, pred_y))"
   ]
  },
  {
   "cell_type": "code",
   "execution_count": null,
   "metadata": {},
   "outputs": [],
   "source": []
  },
  {
   "cell_type": "code",
   "execution_count": null,
   "metadata": {},
   "outputs": [],
   "source": []
  }
 ],
 "metadata": {
  "kernelspec": {
   "display_name": "Python 3",
   "language": "python",
   "name": "python3"
  },
  "language_info": {
   "codemirror_mode": {
    "name": "ipython",
    "version": 3
   },
   "file_extension": ".py",
   "mimetype": "text/x-python",
   "name": "python",
   "nbconvert_exporter": "python",
   "pygments_lexer": "ipython3",
   "version": "3.8.8"
  }
 },
 "nbformat": 4,
 "nbformat_minor": 4
}
